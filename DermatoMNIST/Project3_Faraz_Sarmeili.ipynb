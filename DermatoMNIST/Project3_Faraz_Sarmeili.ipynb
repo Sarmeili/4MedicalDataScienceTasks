{
  "nbformat": 4,
  "nbformat_minor": 0,
  "metadata": {
    "colab": {
      "name": "Project3_Faraz Sarmeili.ipynb",
      "provenance": [],
      "collapsed_sections": []
    },
    "kernelspec": {
      "name": "python3",
      "display_name": "Python 3"
    },
    "language_info": {
      "name": "python"
    },
    "accelerator": "GPU"
  },
  "cells": [
    {
      "cell_type": "markdown",
      "metadata": {
        "id": "Gkg2zWKs9bHJ"
      },
      "source": [
        "Importing and Preparing Dataset and Modules"
      ]
    },
    {
      "cell_type": "code",
      "metadata": {
        "colab": {
          "base_uri": "https://localhost:8080/"
        },
        "id": "ynPiFzRSN071",
        "outputId": "6426a914-2c91-4461-fbb9-453305e0b7a3"
      },
      "source": [
        "!wget -O Data.npz https://zenodo.org/record/4269852/files/dermamnist.npz?download=1"
      ],
      "execution_count": 42,
      "outputs": [
        {
          "output_type": "stream",
          "text": [
            "--2021-08-17 07:03:34--  https://zenodo.org/record/4269852/files/dermamnist.npz?download=1\n",
            "Resolving zenodo.org (zenodo.org)... 137.138.76.77\n",
            "Connecting to zenodo.org (zenodo.org)|137.138.76.77|:443... connected.\n",
            "HTTP request sent, awaiting response... 200 OK\n",
            "Length: 19725078 (19M) [application/octet-stream]\n",
            "Saving to: ‘Data.npz’\n",
            "\n",
            "Data.npz            100%[===================>]  18.81M  4.92MB/s    in 3.8s    \n",
            "\n",
            "2021-08-17 07:03:40 (4.92 MB/s) - ‘Data.npz’ saved [19725078/19725078]\n",
            "\n"
          ],
          "name": "stdout"
        }
      ]
    },
    {
      "cell_type": "code",
      "metadata": {
        "id": "NPhfHikz8ZFt"
      },
      "source": [
        "from tensorflow.keras import Sequential\n",
        "from tensorflow.keras.regularizers import l1, l2\n",
        "from tensorflow.keras.layers import Conv2D, MaxPool2D, Flatten, Dense, Dropout, AveragePooling2D\n",
        "from tensorflow.keras.utils import to_categorical\n",
        "from tensorflow.keras.optimizers import Adam\n",
        "from tensorflow.keras.preprocessing.image import ImageDataGenerator"
      ],
      "execution_count": 43,
      "outputs": []
    },
    {
      "cell_type": "code",
      "metadata": {
        "colab": {
          "base_uri": "https://localhost:8080/"
        },
        "id": "NU65BkxrOILg",
        "outputId": "0216f5c5-d55f-476c-de34-5c4cd39fb692"
      },
      "source": [
        "import numpy as np\n",
        "data=np.load('Data.npz')\n",
        "print(data.files)"
      ],
      "execution_count": 44,
      "outputs": [
        {
          "output_type": "stream",
          "text": [
            "['train_images', 'val_images', 'test_images', 'train_labels', 'val_labels', 'test_labels']\n"
          ],
          "name": "stdout"
        }
      ]
    },
    {
      "cell_type": "code",
      "metadata": {
        "colab": {
          "base_uri": "https://localhost:8080/"
        },
        "id": "Jiqz0gAjOecZ",
        "outputId": "4c3db3cc-edda-488a-8892-277f1174efae"
      },
      "source": [
        "X_train,X_val,X_test,y_train,y_val,y_test=data['train_images'],data['val_images'],data['test_images'],data['train_labels'],data['val_labels'],data['test_labels']\n",
        "print('X_train : '+str(X_train.shape))\n",
        "print('y_train : '+str(y_train.shape))\n",
        "print('X_val : '+str(X_val.shape))\n",
        "print('y_val : '+str(y_val.shape))\n",
        "print('X_test : '+str(X_test.shape))\n",
        "print('y_test : '+str(y_test.shape))"
      ],
      "execution_count": 45,
      "outputs": [
        {
          "output_type": "stream",
          "text": [
            "X_train : (7007, 28, 28, 3)\n",
            "y_train : (7007, 1)\n",
            "X_val : (1003, 28, 28, 3)\n",
            "y_val : (1003, 1)\n",
            "X_test : (2005, 28, 28, 3)\n",
            "y_test : (2005, 1)\n"
          ],
          "name": "stdout"
        }
      ]
    },
    {
      "cell_type": "markdown",
      "metadata": {
        "id": "ePhSRKGSQ0bJ"
      },
      "source": [
        "Checking Class Distribution "
      ]
    },
    {
      "cell_type": "code",
      "metadata": {
        "id": "QNGp_CaoMoOy"
      },
      "source": [
        "import matplotlib.pyplot as plt\n",
        "import pandas as pd\n",
        "import seaborn as sns\n",
        "%matplotlib inline\n",
        "\n",
        "toc1=to_categorical(y_train)\n",
        "toc2=to_categorical(y_val)\n",
        "toc3=to_categorical(y_test)"
      ],
      "execution_count": null,
      "outputs": []
    },
    {
      "cell_type": "code",
      "metadata": {
        "colab": {
          "base_uri": "https://localhost:8080/",
          "height": 282
        },
        "id": "ZsgPUcH7PpFH",
        "outputId": "f2dea7ca-02f3-435d-ab02-5de4235ddb22"
      },
      "source": [
        "plt.plot(np.sum(toc1,axis=0))\n",
        "plt.plot(np.sum(toc2,axis=0))\n",
        "plt.plot(np.sum(toc3,axis=0))\n",
        "\n",
        "print(np.sum(toc3,axis=0))\n"
      ],
      "execution_count": null,
      "outputs": [
        {
          "output_type": "stream",
          "text": [
            "[  66.  103.  220.   23.  223. 1341.   29.]\n"
          ],
          "name": "stdout"
        },
        {
          "output_type": "display_data",
          "data": {
            "image/png": "[encoded data removed]",
            "text/plain": [
              "<Figure size 432x288 with 1 Axes>"
            ]
          },
          "metadata": {
            "tags": [],
            "needs_background": "light"
          }
        }
      ]
    },
    {
      "cell_type": "markdown",
      "metadata": {
        "id": "VjQztGKnRAnz"
      },
      "source": [
        "Solving Imbalanced Dataset Issue by Random Over Sampling"
      ]
    },
    {
      "cell_type": "code",
      "metadata": {
        "colab": {
          "base_uri": "https://localhost:8080/"
        },
        "id": "q36gEq0rRIv8",
        "outputId": "1ee0fba0-00ca-442b-fb80-68c7472ea4be"
      },
      "source": [
        "from imblearn.over_sampling import RandomOverSampler\n",
        "sampler=RandomOverSampler()\n",
        "X_train=X_train.reshape(-1,28*28*3)\n",
        "X_val=X_val.reshape(-1,28*28*3)\n",
        "X_train,y_train=sampler.fit_resample(X_train,y_train)\n",
        "X_val,y_val=sampler.fit_resample(X_val,y_val)\n"
      ],
      "execution_count": 30,
      "outputs": [
        {
          "output_type": "stream",
          "text": [
            "/usr/local/lib/python3.7/dist-packages/sklearn/externals/six.py:31: FutureWarning: The module is deprecated in version 0.21 and will be removed in version 0.23 since we've dropped support for Python 2.7. Please rely on the official version of six (https://pypi.org/project/six/).\n",
            "  \"(https://pypi.org/project/six/).\", FutureWarning)\n",
            "/usr/local/lib/python3.7/dist-packages/sklearn/utils/deprecation.py:144: FutureWarning: The sklearn.neighbors.base module is  deprecated in version 0.22 and will be removed in version 0.24. The corresponding classes / functions should instead be imported from sklearn.neighbors. Anything that cannot be imported from sklearn.neighbors is now part of the private API.\n",
            "  warnings.warn(message, FutureWarning)\n",
            "/usr/local/lib/python3.7/dist-packages/sklearn/utils/validation.py:760: DataConversionWarning: A column-vector y was passed when a 1d array was expected. Please change the shape of y to (n_samples, ), for example using ravel().\n",
            "  y = column_or_1d(y, warn=True)\n",
            "/usr/local/lib/python3.7/dist-packages/sklearn/utils/deprecation.py:87: FutureWarning: Function safe_indexing is deprecated; safe_indexing is deprecated in version 0.22 and will be removed in version 0.24.\n",
            "  warnings.warn(msg, category=FutureWarning)\n",
            "/usr/local/lib/python3.7/dist-packages/sklearn/utils/validation.py:760: DataConversionWarning: A column-vector y was passed when a 1d array was expected. Please change the shape of y to (n_samples, ), for example using ravel().\n",
            "  y = column_or_1d(y, warn=True)\n",
            "/usr/local/lib/python3.7/dist-packages/sklearn/utils/deprecation.py:87: FutureWarning: Function safe_indexing is deprecated; safe_indexing is deprecated in version 0.22 and will be removed in version 0.24.\n",
            "  warnings.warn(msg, category=FutureWarning)\n"
          ],
          "name": "stderr"
        }
      ]
    },
    {
      "cell_type": "code",
      "metadata": {
        "colab": {
          "base_uri": "https://localhost:8080/",
          "height": 282
        },
        "id": "kObkq0LUWty2",
        "outputId": "5ffb85ad-82f8-45cb-d2fa-c9a0400d3721"
      },
      "source": [
        "import matplotlib.pyplot as plt\n",
        "\n",
        "toc=to_categorical(y_train)\n",
        "plt.plot(np.sum(toc,axis=0))"
      ],
      "execution_count": null,
      "outputs": [
        {
          "output_type": "execute_result",
          "data": {
            "text/plain": [
              "[<matplotlib.lines.Line2D at 0x7fe7184e8f50>]"
            ]
          },
          "metadata": {
            "tags": []
          },
          "execution_count": 129
        },
        {
          "output_type": "display_data",
          "data": {
            "image/png": "[encoded data removed]",
            "text/plain": [
              "<Figure size 432x288 with 1 Axes>"
            ]
          },
          "metadata": {
            "tags": [],
            "needs_background": "light"
          }
        }
      ]
    },
    {
      "cell_type": "code",
      "metadata": {
        "id": "LuHmoFdZW34N",
        "colab": {
          "base_uri": "https://localhost:8080/"
        },
        "outputId": "46497fc1-0111-4897-907d-c11e0fadb11c"
      },
      "source": [
        "X_train=X_train.reshape(-1,28,28,3)\n",
        "X_val=X_val.reshape(-1,28,28,3)\n",
        "X_train.shape\n",
        "X_val.shape"
      ],
      "execution_count": 32,
      "outputs": [
        {
          "output_type": "execute_result",
          "data": {
            "text/plain": [
              "(4697, 28, 28, 3)"
            ]
          },
          "metadata": {
            "tags": []
          },
          "execution_count": 32
        }
      ]
    },
    {
      "cell_type": "markdown",
      "metadata": {
        "id": "02qmwlFI4yjx"
      },
      "source": [
        "Solving Imbalanced Dataset Issue by Random Over Sampling"
      ]
    },
    {
      "cell_type": "code",
      "metadata": {
        "colab": {
          "base_uri": "https://localhost:8080/"
        },
        "id": "ZMfuAeFr4zxf",
        "outputId": "8e4e7932-438d-4dd6-a761-fa6338674be3"
      },
      "source": [
        "from imblearn.under_sampling import RandomUnderSampler\n",
        "sampler=RandomUnderSampler()\n",
        "X_train=X_train.reshape(-1,28*28*3)\n",
        "X_train,y_train=sampler.fit_resample(X_train,y_train)"
      ],
      "execution_count": null,
      "outputs": [
        {
          "output_type": "stream",
          "text": [
            "/usr/local/lib/python3.7/dist-packages/sklearn/utils/deprecation.py:87: FutureWarning: Function safe_indexing is deprecated; safe_indexing is deprecated in version 0.22 and will be removed in version 0.24.\n",
            "  warnings.warn(msg, category=FutureWarning)\n"
          ],
          "name": "stderr"
        }
      ]
    },
    {
      "cell_type": "code",
      "metadata": {
        "colab": {
          "base_uri": "https://localhost:8080/",
          "height": 282
        },
        "id": "d3y5VMRN5MVq",
        "outputId": "9ff05833-7839-4c04-f962-2fbf3e8d4fb8"
      },
      "source": [
        "import matplotlib.pyplot as plt\n",
        "\n",
        "toc=to_categorical(y_train)\n",
        "plt.plot(np.sum(toc,axis=0))"
      ],
      "execution_count": null,
      "outputs": [
        {
          "output_type": "execute_result",
          "data": {
            "text/plain": [
              "[<matplotlib.lines.Line2D at 0x7f62e96003d0>]"
            ]
          },
          "metadata": {
            "tags": []
          },
          "execution_count": 57
        },
        {
          "output_type": "display_data",
          "data": {
            "image/png": "[encoded data removed]",
            "text/plain": [
              "<Figure size 432x288 with 1 Axes>"
            ]
          },
          "metadata": {
            "tags": [],
            "needs_background": "light"
          }
        }
      ]
    },
    {
      "cell_type": "code",
      "metadata": {
        "colab": {
          "base_uri": "https://localhost:8080/"
        },
        "id": "-eW-X3Hj5Ruf",
        "outputId": "971641b8-2b96-430c-b8c7-8e0883287247"
      },
      "source": [
        "X_train=X_train.reshape(-1,28,28,3)\n",
        "X_train.shape"
      ],
      "execution_count": null,
      "outputs": [
        {
          "output_type": "execute_result",
          "data": {
            "text/plain": [
              "(560, 28, 28, 3)"
            ]
          },
          "metadata": {
            "tags": []
          },
          "execution_count": 58
        }
      ]
    },
    {
      "cell_type": "markdown",
      "metadata": {
        "id": "rKbZkNllXiwd"
      },
      "source": [
        "Visualizing Some Data"
      ]
    },
    {
      "cell_type": "code",
      "metadata": {
        "colab": {
          "base_uri": "https://localhost:8080/",
          "height": 550
        },
        "id": "TMxt1SH1PGQq",
        "outputId": "49b58066-d5fb-4987-a44e-a245f8e3abea"
      },
      "source": [
        "import matplotlib.pyplot as plt\n",
        "%matplotlib inline\n",
        "plt.imshow(X_train[1])\n",
        "plt.show()\n",
        "print(y_train[1])\n",
        "c=0\n",
        "image_check=np.zeros((29*5,29*5,3))\n",
        "for i in range(5):\n",
        "  for j in range(5):\n",
        "    image_check[i*29:i*29+28,j*29:j*29+28,:]=X_train[c]\n",
        "    c+=1\n",
        "plt.imshow(image_check.astype(np.uint8))"
      ],
      "execution_count": 7,
      "outputs": [
        {
          "output_type": "display_data",
          "data": {
            "image/png": "[encoded data removed]",
            "text/plain": [
              "<Figure size 432x288 with 1 Axes>"
            ]
          },
          "metadata": {
            "tags": [],
            "needs_background": "light"
          }
        },
        {
          "output_type": "stream",
          "text": [
            "[5]\n"
          ],
          "name": "stdout"
        },
        {
          "output_type": "execute_result",
          "data": {
            "text/plain": [
              "<matplotlib.image.AxesImage at 0x7fec713d6290>"
            ]
          },
          "metadata": {
            "tags": []
          },
          "execution_count": 7
        },
        {
          "output_type": "display_data",
          "data": {
            "image/png": "[encoded data removed]",
            "text/plain": [
              "<Figure size 432x288 with 1 Axes>"
            ]
          },
          "metadata": {
            "tags": [],
            "needs_background": "light"
          }
        }
      ]
    },
    {
      "cell_type": "markdown",
      "metadata": {
        "id": "pkStE29MEPKe"
      },
      "source": [
        "Resizing the Images"
      ]
    },
    {
      "cell_type": "code",
      "metadata": {
        "id": "fGckgaEsES-n"
      },
      "source": [
        "import tensorflow as tf\n",
        "\n",
        "X_train=tf.image.resize(X_train,(224,224))\n",
        "X_train=np.array(X_train).astype(np.uint8)\n",
        "X_test=tf.image.resize(X_test,(224,224))\n",
        "X_test=np.array(X_test).astype(np.uint8)\n",
        "X_val=tf.image.resize(X_val,(224,224))\n",
        "X_val=np.array(X_val).astype(np.uint8)"
      ],
      "execution_count": null,
      "outputs": []
    },
    {
      "cell_type": "markdown",
      "metadata": {
        "id": "Yml4Yi4wlUy2"
      },
      "source": [
        "Data Augmentation"
      ]
    },
    {
      "cell_type": "code",
      "metadata": {
        "id": "Jl2Nh9D9gLHj"
      },
      "source": [
        "y_train=to_categorical(y_train)\n",
        "y_val=to_categorical(y_val)\n",
        "y_test=to_categorical(y_test)\n",
        "Imgen1=ImageDataGenerator(rotation_range=30,\n",
        "                         width_shift_range=0.2,\n",
        "                         height_shift_range=0.2,\n",
        "                         shear_range=0.2,\n",
        "                         horizontal_flip=True,\n",
        "                         vertical_flip=True,\n",
        "                         zoom_range=0.5)\n",
        "                         #rescale=1./255)\n",
        "Imgen2=ImageDataGenerator(rotation_range=30,\n",
        "                         width_shift_range=0.2,\n",
        "                         height_shift_range=0.2,\n",
        "                         shear_range=0.2,\n",
        "                         horizontal_flip=True,\n",
        "                         vertical_flip=True,\n",
        "                         zoom_range=0.5)\n",
        "                         #rescale=1./255)\n",
        "X_test=X_test/255\n",
        "aug_iter=Imgen1.flow(X_train,y_train,batch_size=32)\n",
        "aug_iter_val=Imgen2.flow(X_val,y_val,batch_size=32)\n",
        "#aug_image=[next(aug_iter).astype(np.uint8) for i in range(10)]"
      ],
      "execution_count": null,
      "outputs": []
    },
    {
      "cell_type": "markdown",
      "metadata": {
        "id": "32wO2ynY8TEy"
      },
      "source": [
        "Preproccesing"
      ]
    },
    {
      "cell_type": "code",
      "metadata": {
        "id": "8LAZEOQv8U4G"
      },
      "source": [
        "y_train=to_categorical(y_train)\n",
        "y_val=to_categorical(y_val)\n",
        "y_test=to_categorical(y_test)"
      ],
      "execution_count": 46,
      "outputs": []
    },
    {
      "cell_type": "code",
      "metadata": {
        "id": "0iwj_nkjMzpp"
      },
      "source": [
        "X_train=X_train/255\n",
        "X_val=X_val/255\n",
        "X_test=X_test/255"
      ],
      "execution_count": 21,
      "outputs": []
    },
    {
      "cell_type": "code",
      "metadata": {
        "id": "qO997V4hNhSG",
        "colab": {
          "base_uri": "https://localhost:8080/"
        },
        "outputId": "a38344fc-a467-47b5-ff35-1ff2fee4a524"
      },
      "source": [
        "X_train.shape"
      ],
      "execution_count": 7,
      "outputs": [
        {
          "output_type": "execute_result",
          "data": {
            "text/plain": [
              "(7007, 28, 28, 3)"
            ]
          },
          "metadata": {
            "tags": []
          },
          "execution_count": 7
        }
      ]
    },
    {
      "cell_type": "markdown",
      "metadata": {
        "id": "x8orEvlP8-V4"
      },
      "source": [
        "Model"
      ]
    },
    {
      "cell_type": "code",
      "metadata": {
        "colab": {
          "base_uri": "https://localhost:8080/"
        },
        "id": "eQCacXS_ubyL",
        "outputId": "4fcc99db-e036-46ef-ec9a-222f2fc5e2a6"
      },
      "source": [
        "\n",
        "model = Sequential()\n",
        "\n",
        "model.add(Conv2D(16, (3,3), activation='relu', padding='same', input_shape=(28, 28, 3),kernel_regularizer=l2(0.01)))\n",
        "model.add(Conv2D(16, (3,3), activation='relu', padding='same',kernel_regularizer=l2(0.01)))\n",
        "model.add(MaxPool2D((2,2), strides=(2,2)))\n",
        "#model.add(AveragePooling2D((2,2), strides=(2,2)))\n",
        "model.add(Dropout(0.2))\n",
        "\n",
        "\n",
        "\n",
        "model.add(Conv2D(32, (3,3), activation='relu', padding='same',kernel_regularizer=l2(0.01)))\n",
        "model.add(Conv2D(32, (3,3), activation='relu', padding='same',kernel_regularizer=l2(0.01)))\n",
        "#model.add(Conv2D(32, (3,3), activation='relu', padding='same',kernel_regularizer=l2(0.01)))\n",
        "model.add(MaxPool2D((2,2), strides=(2,2)))\n",
        "#model.add(AveragePooling2D((2,2), strides=(2,2)))\n",
        "model.add(Dropout(0.2))\n",
        "\n",
        "\n",
        "model.add(Conv2D(64, (3,3), activation='relu', padding='same',kernel_regularizer=l2(0.01)))\n",
        "model.add(Conv2D(64, (3,3), activation='relu', padding='same',kernel_regularizer=l2(0.01)))\n",
        "#model.add(Conv2D(64, (3,3), activation='relu', padding='same',kernel_regularizer=l2(0.01)))\n",
        "model.add(MaxPool2D((2,2), strides=(2,2)))\n",
        "#model.add(AveragePooling2D((2,2), strides=(2,2)))\n",
        "model.add(Dropout(0.2))\n",
        "\n",
        "\n",
        "model.add(Flatten())\n",
        "\n",
        "model.add(Dense(128, activation='relu',kernel_regularizer=l2(0.01)))\n",
        "model.add(Dropout(0.2))\n",
        "model.add(Dense(7, activation='softmax'))\n",
        "\n",
        "model.summary()"
      ],
      "execution_count": 47,
      "outputs": [
        {
          "output_type": "stream",
          "text": [
            "Model: \"sequential_2\"\n",
            "_________________________________________________________________\n",
            "Layer (type)                 Output Shape              Param #   \n",
            "=================================================================\n",
            "conv2d_12 (Conv2D)           (None, 28, 28, 16)        448       \n",
            "_________________________________________________________________\n",
            "conv2d_13 (Conv2D)           (None, 28, 28, 16)        2320      \n",
            "_________________________________________________________________\n",
            "max_pooling2d_6 (MaxPooling2 (None, 14, 14, 16)        0         \n",
            "_________________________________________________________________\n",
            "dropout_8 (Dropout)          (None, 14, 14, 16)        0         \n",
            "_________________________________________________________________\n",
            "conv2d_14 (Conv2D)           (None, 14, 14, 32)        4640      \n",
            "_________________________________________________________________\n",
            "conv2d_15 (Conv2D)           (None, 14, 14, 32)        9248      \n",
            "_________________________________________________________________\n",
            "max_pooling2d_7 (MaxPooling2 (None, 7, 7, 32)          0         \n",
            "_________________________________________________________________\n",
            "dropout_9 (Dropout)          (None, 7, 7, 32)          0         \n",
            "_________________________________________________________________\n",
            "conv2d_16 (Conv2D)           (None, 7, 7, 64)          18496     \n",
            "_________________________________________________________________\n",
            "conv2d_17 (Conv2D)           (None, 7, 7, 64)          36928     \n",
            "_________________________________________________________________\n",
            "max_pooling2d_8 (MaxPooling2 (None, 3, 3, 64)          0         \n",
            "_________________________________________________________________\n",
            "dropout_10 (Dropout)         (None, 3, 3, 64)          0         \n",
            "_________________________________________________________________\n",
            "flatten_2 (Flatten)          (None, 576)               0         \n",
            "_________________________________________________________________\n",
            "dense_4 (Dense)              (None, 128)               73856     \n",
            "_________________________________________________________________\n",
            "dropout_11 (Dropout)         (None, 128)               0         \n",
            "_________________________________________________________________\n",
            "dense_5 (Dense)              (None, 7)                 903       \n",
            "=================================================================\n",
            "Total params: 146,839\n",
            "Trainable params: 146,839\n",
            "Non-trainable params: 0\n",
            "_________________________________________________________________\n"
          ],
          "name": "stdout"
        }
      ]
    },
    {
      "cell_type": "markdown",
      "metadata": {
        "id": "xHabnOHw9GA7"
      },
      "source": [
        "Training Model"
      ]
    },
    {
      "cell_type": "markdown",
      "metadata": {
        "id": "jYg1B3ZpI6AG"
      },
      "source": [
        "With Augmentation"
      ]
    },
    {
      "cell_type": "code",
      "metadata": {
        "colab": {
          "base_uri": "https://localhost:8080/"
        },
        "id": "ULIGinxqI0Vx",
        "outputId": "5aff261f-3abc-4845-c9c2-4165fa29050b"
      },
      "source": [
        "model.compile(optimizer=Adam() , loss='categorical_crossentropy', metrics=['acc'])\n",
        "history = model.fit_generator(aug_iter,steps_per_epoch=int(aug_iter.n/32) , epochs=30,validation_data=aug_iter_val,validation_steps=int(aug_iter_val.n/32))"
      ],
      "execution_count": null,
      "outputs": [
        {
          "output_type": "stream",
          "text": [
            "/usr/local/lib/python3.7/dist-packages/tensorflow/python/keras/engine/training.py:1940: UserWarning: `Model.fit_generator` is deprecated and will be removed in a future version. Please use `Model.fit`, which supports generators.\n",
            "  warnings.warn('`Model.fit_generator` is deprecated and '\n"
          ],
          "name": "stderr"
        },
        {
          "output_type": "stream",
          "text": [
            "Epoch 1/30\n",
            "218/218 [==============================] - 5s 20ms/step - loss: 6.7353 - acc: 0.6571 - val_loss: 4.9235 - val_acc: 0.6694\n",
            "Epoch 2/30\n",
            "218/218 [==============================] - 4s 19ms/step - loss: 4.1629 - acc: 0.6691 - val_loss: 3.6006 - val_acc: 0.6683\n",
            "Epoch 3/30\n",
            "218/218 [==============================] - 4s 19ms/step - loss: 3.1448 - acc: 0.6692 - val_loss: 2.7534 - val_acc: 0.6764\n",
            "Epoch 4/30\n",
            "218/218 [==============================] - 4s 19ms/step - loss: 2.5024 - acc: 0.6704 - val_loss: 2.2329 - val_acc: 0.6683\n",
            "Epoch 5/30\n",
            "218/218 [==============================] - 4s 20ms/step - loss: 2.0885 - acc: 0.6678 - val_loss: 1.9214 - val_acc: 0.6683\n",
            "Epoch 6/30\n",
            "218/218 [==============================] - 4s 19ms/step - loss: 1.8024 - acc: 0.6760 - val_loss: 1.6456 - val_acc: 0.6734\n",
            "Epoch 7/30\n",
            "218/218 [==============================] - 4s 19ms/step - loss: 1.5900 - acc: 0.6753 - val_loss: 1.5106 - val_acc: 0.6704\n",
            "Epoch 8/30\n",
            "218/218 [==============================] - 4s 19ms/step - loss: 1.4245 - acc: 0.6728 - val_loss: 1.3611 - val_acc: 0.6794\n",
            "Epoch 9/30\n",
            "218/218 [==============================] - 4s 19ms/step - loss: 1.3267 - acc: 0.6757 - val_loss: 1.2738 - val_acc: 0.6764\n",
            "Epoch 10/30\n",
            "218/218 [==============================] - 4s 19ms/step - loss: 1.2417 - acc: 0.6767 - val_loss: 1.2222 - val_acc: 0.6603\n",
            "Epoch 11/30\n",
            "218/218 [==============================] - 4s 19ms/step - loss: 1.1779 - acc: 0.6781 - val_loss: 1.1156 - val_acc: 0.6825\n",
            "Epoch 12/30\n",
            "218/218 [==============================] - 4s 19ms/step - loss: 1.1362 - acc: 0.6822 - val_loss: 1.0980 - val_acc: 0.6754\n",
            "Epoch 13/30\n",
            "218/218 [==============================] - 4s 19ms/step - loss: 1.0883 - acc: 0.6796 - val_loss: 1.0380 - val_acc: 0.6875\n",
            "Epoch 14/30\n",
            "218/218 [==============================] - 4s 19ms/step - loss: 1.0659 - acc: 0.6799 - val_loss: 1.0543 - val_acc: 0.6845\n",
            "Epoch 15/30\n",
            "218/218 [==============================] - 4s 20ms/step - loss: 1.0444 - acc: 0.6833 - val_loss: 1.0139 - val_acc: 0.6815\n",
            "Epoch 16/30\n",
            "218/218 [==============================] - 4s 20ms/step - loss: 1.0262 - acc: 0.6844 - val_loss: 1.0127 - val_acc: 0.6804\n",
            "Epoch 17/30\n",
            "218/218 [==============================] - 4s 19ms/step - loss: 1.0158 - acc: 0.6826 - val_loss: 1.0098 - val_acc: 0.6754\n",
            "Epoch 18/30\n",
            "218/218 [==============================] - 4s 19ms/step - loss: 1.0131 - acc: 0.6819 - val_loss: 1.0151 - val_acc: 0.6663\n",
            "Epoch 19/30\n",
            "218/218 [==============================] - 4s 19ms/step - loss: 0.9934 - acc: 0.6803 - val_loss: 1.0067 - val_acc: 0.6794\n",
            "Epoch 20/30\n",
            "218/218 [==============================] - 4s 19ms/step - loss: 0.9955 - acc: 0.6777 - val_loss: 0.9630 - val_acc: 0.6764\n",
            "Epoch 21/30\n",
            "218/218 [==============================] - 4s 19ms/step - loss: 0.9883 - acc: 0.6804 - val_loss: 0.9838 - val_acc: 0.6825\n",
            "Epoch 22/30\n",
            "218/218 [==============================] - 4s 19ms/step - loss: 0.9825 - acc: 0.6807 - val_loss: 0.9734 - val_acc: 0.6865\n",
            "Epoch 23/30\n",
            "218/218 [==============================] - 4s 19ms/step - loss: 0.9841 - acc: 0.6781 - val_loss: 0.9597 - val_acc: 0.6815\n",
            "Epoch 24/30\n",
            "218/218 [==============================] - 4s 19ms/step - loss: 0.9766 - acc: 0.6829 - val_loss: 0.9452 - val_acc: 0.6835\n",
            "Epoch 25/30\n",
            "218/218 [==============================] - 4s 20ms/step - loss: 0.9751 - acc: 0.6810 - val_loss: 0.9512 - val_acc: 0.6784\n",
            "Epoch 26/30\n",
            "218/218 [==============================] - 4s 19ms/step - loss: 0.9704 - acc: 0.6807 - val_loss: 0.9301 - val_acc: 0.6865\n",
            "Epoch 27/30\n",
            "218/218 [==============================] - 4s 19ms/step - loss: 0.9802 - acc: 0.6799 - val_loss: 0.9870 - val_acc: 0.6825\n",
            "Epoch 28/30\n",
            "218/218 [==============================] - 4s 19ms/step - loss: 0.9743 - acc: 0.6789 - val_loss: 0.9731 - val_acc: 0.6835\n",
            "Epoch 29/30\n",
            "218/218 [==============================] - 4s 19ms/step - loss: 0.9616 - acc: 0.6813 - val_loss: 0.9408 - val_acc: 0.6885\n",
            "Epoch 30/30\n",
            "218/218 [==============================] - 4s 19ms/step - loss: 0.9633 - acc: 0.6787 - val_loss: 0.9263 - val_acc: 0.6885\n"
          ],
          "name": "stdout"
        }
      ]
    },
    {
      "cell_type": "markdown",
      "metadata": {
        "id": "lh8nm6NEI1zb"
      },
      "source": [
        "Without Augmentation"
      ]
    },
    {
      "cell_type": "code",
      "metadata": {
        "colab": {
          "base_uri": "https://localhost:8080/"
        },
        "id": "yTf5fp48vcNq",
        "outputId": "70fff575-cad0-4a6c-f0d5-d38847c270ba"
      },
      "source": [
        "model.compile(optimizer=Adam() , loss='categorical_crossentropy', metrics=['acc'])\n",
        "history = model.fit(X_train, y_train, batch_size=32, epochs=80,validation_data=(X_val, y_val))"
      ],
      "execution_count": 48,
      "outputs": [
        {
          "output_type": "stream",
          "text": [
            "Epoch 1/80\n",
            "219/219 [==============================] - 3s 11ms/step - loss: 3.7208 - acc: 0.6601 - val_loss: 2.6972 - val_acc: 0.6690\n",
            "Epoch 2/80\n",
            "219/219 [==============================] - 2s 9ms/step - loss: 2.2723 - acc: 0.6729 - val_loss: 1.8981 - val_acc: 0.6899\n",
            "Epoch 3/80\n",
            "219/219 [==============================] - 2s 9ms/step - loss: 1.7170 - acc: 0.6783 - val_loss: 1.5060 - val_acc: 0.6849\n",
            "Epoch 4/80\n",
            "219/219 [==============================] - 2s 9ms/step - loss: 1.4166 - acc: 0.6806 - val_loss: 1.3236 - val_acc: 0.6919\n",
            "Epoch 5/80\n",
            "219/219 [==============================] - 2s 9ms/step - loss: 1.2494 - acc: 0.6840 - val_loss: 1.1407 - val_acc: 0.6849\n",
            "Epoch 6/80\n",
            "219/219 [==============================] - 2s 9ms/step - loss: 1.1547 - acc: 0.6817 - val_loss: 1.1314 - val_acc: 0.6979\n",
            "Epoch 7/80\n",
            "219/219 [==============================] - 2s 9ms/step - loss: 1.0864 - acc: 0.6855 - val_loss: 1.0124 - val_acc: 0.6750\n",
            "Epoch 8/80\n",
            "219/219 [==============================] - 2s 9ms/step - loss: 1.0376 - acc: 0.6883 - val_loss: 1.0029 - val_acc: 0.6849\n",
            "Epoch 9/80\n",
            "219/219 [==============================] - 2s 9ms/step - loss: 1.0144 - acc: 0.6835 - val_loss: 1.0084 - val_acc: 0.6810\n",
            "Epoch 10/80\n",
            "219/219 [==============================] - 2s 9ms/step - loss: 1.0022 - acc: 0.6863 - val_loss: 0.9535 - val_acc: 0.6770\n",
            "Epoch 11/80\n",
            "219/219 [==============================] - 2s 9ms/step - loss: 0.9816 - acc: 0.6885 - val_loss: 0.9465 - val_acc: 0.7029\n",
            "Epoch 12/80\n",
            "219/219 [==============================] - 2s 9ms/step - loss: 0.9696 - acc: 0.6880 - val_loss: 0.9554 - val_acc: 0.6849\n",
            "Epoch 13/80\n",
            "219/219 [==============================] - 2s 9ms/step - loss: 0.9633 - acc: 0.6877 - val_loss: 0.9217 - val_acc: 0.6849\n",
            "Epoch 14/80\n",
            "219/219 [==============================] - 2s 10ms/step - loss: 0.9542 - acc: 0.6899 - val_loss: 0.9044 - val_acc: 0.6979\n",
            "Epoch 15/80\n",
            "219/219 [==============================] - 2s 9ms/step - loss: 0.9425 - acc: 0.6929 - val_loss: 0.9164 - val_acc: 0.6909\n",
            "Epoch 16/80\n",
            "219/219 [==============================] - 2s 9ms/step - loss: 0.9439 - acc: 0.6899 - val_loss: 0.8951 - val_acc: 0.7019\n",
            "Epoch 17/80\n",
            "219/219 [==============================] - 2s 9ms/step - loss: 0.9408 - acc: 0.6899 - val_loss: 0.9027 - val_acc: 0.6959\n",
            "Epoch 18/80\n",
            "219/219 [==============================] - 2s 9ms/step - loss: 0.9272 - acc: 0.6936 - val_loss: 0.9027 - val_acc: 0.6999\n",
            "Epoch 19/80\n",
            "219/219 [==============================] - 2s 9ms/step - loss: 0.9275 - acc: 0.6903 - val_loss: 0.8968 - val_acc: 0.7019\n",
            "Epoch 20/80\n",
            "219/219 [==============================] - 2s 9ms/step - loss: 0.9215 - acc: 0.6949 - val_loss: 0.8960 - val_acc: 0.7029\n",
            "Epoch 21/80\n",
            "219/219 [==============================] - 2s 9ms/step - loss: 0.9125 - acc: 0.6954 - val_loss: 0.9156 - val_acc: 0.7059\n",
            "Epoch 22/80\n",
            "219/219 [==============================] - 2s 9ms/step - loss: 0.9047 - acc: 0.7024 - val_loss: 0.8842 - val_acc: 0.7019\n",
            "Epoch 23/80\n",
            "219/219 [==============================] - 2s 9ms/step - loss: 0.8907 - acc: 0.7010 - val_loss: 0.8813 - val_acc: 0.7089\n",
            "Epoch 24/80\n",
            "219/219 [==============================] - 2s 9ms/step - loss: 0.8979 - acc: 0.7054 - val_loss: 0.8666 - val_acc: 0.7238\n",
            "Epoch 25/80\n",
            "219/219 [==============================] - 2s 9ms/step - loss: 0.8912 - acc: 0.7017 - val_loss: 0.8790 - val_acc: 0.7109\n",
            "Epoch 26/80\n",
            "219/219 [==============================] - 2s 9ms/step - loss: 0.9036 - acc: 0.6966 - val_loss: 0.8896 - val_acc: 0.6999\n",
            "Epoch 27/80\n",
            "219/219 [==============================] - 2s 9ms/step - loss: 0.8978 - acc: 0.6964 - val_loss: 0.8632 - val_acc: 0.7069\n",
            "Epoch 28/80\n",
            "219/219 [==============================] - 2s 9ms/step - loss: 0.8875 - acc: 0.7036 - val_loss: 0.8422 - val_acc: 0.7149\n",
            "Epoch 29/80\n",
            "219/219 [==============================] - 2s 9ms/step - loss: 0.8793 - acc: 0.7060 - val_loss: 0.8766 - val_acc: 0.7149\n",
            "Epoch 30/80\n",
            "219/219 [==============================] - 2s 9ms/step - loss: 0.8826 - acc: 0.7013 - val_loss: 0.8913 - val_acc: 0.7029\n",
            "Epoch 31/80\n",
            "219/219 [==============================] - 2s 9ms/step - loss: 0.8931 - acc: 0.7013 - val_loss: 0.9380 - val_acc: 0.6989\n",
            "Epoch 32/80\n",
            "219/219 [==============================] - 2s 9ms/step - loss: 0.8811 - acc: 0.7070 - val_loss: 0.9105 - val_acc: 0.7059\n",
            "Epoch 33/80\n",
            "219/219 [==============================] - 2s 9ms/step - loss: 0.8792 - acc: 0.7090 - val_loss: 0.8610 - val_acc: 0.7238\n",
            "Epoch 34/80\n",
            "219/219 [==============================] - 2s 9ms/step - loss: 0.8806 - acc: 0.7029 - val_loss: 0.8372 - val_acc: 0.7188\n",
            "Epoch 35/80\n",
            "219/219 [==============================] - 2s 9ms/step - loss: 0.8828 - acc: 0.6993 - val_loss: 0.8596 - val_acc: 0.7099\n",
            "Epoch 36/80\n",
            "219/219 [==============================] - 2s 9ms/step - loss: 0.8742 - acc: 0.7057 - val_loss: 0.8299 - val_acc: 0.7238\n",
            "Epoch 37/80\n",
            "219/219 [==============================] - 2s 9ms/step - loss: 0.8872 - acc: 0.7054 - val_loss: 0.8565 - val_acc: 0.7049\n",
            "Epoch 38/80\n",
            "219/219 [==============================] - 2s 9ms/step - loss: 0.8765 - acc: 0.7073 - val_loss: 0.8683 - val_acc: 0.6999\n",
            "Epoch 39/80\n",
            "219/219 [==============================] - 2s 9ms/step - loss: 0.8750 - acc: 0.7046 - val_loss: 0.8743 - val_acc: 0.7019\n",
            "Epoch 40/80\n",
            "219/219 [==============================] - 2s 9ms/step - loss: 0.8754 - acc: 0.7099 - val_loss: 0.8633 - val_acc: 0.7009\n",
            "Epoch 41/80\n",
            "219/219 [==============================] - 2s 9ms/step - loss: 0.8649 - acc: 0.7057 - val_loss: 0.8479 - val_acc: 0.7129\n",
            "Epoch 42/80\n",
            "219/219 [==============================] - 2s 9ms/step - loss: 0.8683 - acc: 0.7097 - val_loss: 0.8299 - val_acc: 0.7129\n",
            "Epoch 43/80\n",
            "219/219 [==============================] - 2s 9ms/step - loss: 0.8654 - acc: 0.7043 - val_loss: 0.8570 - val_acc: 0.7039\n",
            "Epoch 44/80\n",
            "219/219 [==============================] - 2s 9ms/step - loss: 0.8748 - acc: 0.7050 - val_loss: 0.8466 - val_acc: 0.7109\n",
            "Epoch 45/80\n",
            "219/219 [==============================] - 2s 9ms/step - loss: 0.8760 - acc: 0.7077 - val_loss: 0.8258 - val_acc: 0.7208\n",
            "Epoch 46/80\n",
            "219/219 [==============================] - 2s 9ms/step - loss: 0.8641 - acc: 0.7090 - val_loss: 0.8484 - val_acc: 0.7019\n",
            "Epoch 47/80\n",
            "219/219 [==============================] - 2s 9ms/step - loss: 0.8572 - acc: 0.7094 - val_loss: 0.8675 - val_acc: 0.7049\n",
            "Epoch 48/80\n",
            "219/219 [==============================] - 2s 9ms/step - loss: 0.8590 - acc: 0.7090 - val_loss: 0.8360 - val_acc: 0.7218\n",
            "Epoch 49/80\n",
            "219/219 [==============================] - 2s 9ms/step - loss: 0.8545 - acc: 0.7100 - val_loss: 0.8229 - val_acc: 0.7228\n",
            "Epoch 50/80\n",
            "219/219 [==============================] - 2s 9ms/step - loss: 0.8546 - acc: 0.7159 - val_loss: 0.8200 - val_acc: 0.7228\n",
            "Epoch 51/80\n",
            "219/219 [==============================] - 2s 9ms/step - loss: 0.8597 - acc: 0.7107 - val_loss: 0.8352 - val_acc: 0.7019\n",
            "Epoch 52/80\n",
            "219/219 [==============================] - 2s 9ms/step - loss: 0.8599 - acc: 0.7084 - val_loss: 0.8389 - val_acc: 0.7139\n",
            "Epoch 53/80\n",
            "219/219 [==============================] - 2s 9ms/step - loss: 0.8679 - acc: 0.7094 - val_loss: 0.8542 - val_acc: 0.7188\n",
            "Epoch 54/80\n",
            "219/219 [==============================] - 2s 9ms/step - loss: 0.8672 - acc: 0.7093 - val_loss: 0.8521 - val_acc: 0.6959\n",
            "Epoch 55/80\n",
            "219/219 [==============================] - 2s 9ms/step - loss: 0.8553 - acc: 0.7099 - val_loss: 0.8428 - val_acc: 0.7069\n",
            "Epoch 56/80\n",
            "219/219 [==============================] - 2s 9ms/step - loss: 0.8574 - acc: 0.7104 - val_loss: 0.8330 - val_acc: 0.7139\n",
            "Epoch 57/80\n",
            "219/219 [==============================] - 2s 9ms/step - loss: 0.8546 - acc: 0.7111 - val_loss: 0.8351 - val_acc: 0.7228\n",
            "Epoch 58/80\n",
            "219/219 [==============================] - 2s 9ms/step - loss: 0.8472 - acc: 0.7124 - val_loss: 0.8529 - val_acc: 0.7358\n",
            "Epoch 59/80\n",
            "219/219 [==============================] - 2s 9ms/step - loss: 0.8570 - acc: 0.7067 - val_loss: 0.8896 - val_acc: 0.7238\n",
            "Epoch 60/80\n",
            "219/219 [==============================] - 2s 9ms/step - loss: 0.8597 - acc: 0.7081 - val_loss: 0.8300 - val_acc: 0.7119\n",
            "Epoch 61/80\n",
            "219/219 [==============================] - 2s 9ms/step - loss: 0.8549 - acc: 0.7101 - val_loss: 0.8280 - val_acc: 0.7178\n",
            "Epoch 62/80\n",
            "219/219 [==============================] - 2s 9ms/step - loss: 0.8587 - acc: 0.7109 - val_loss: 0.8254 - val_acc: 0.7218\n",
            "Epoch 63/80\n",
            "219/219 [==============================] - 2s 9ms/step - loss: 0.8640 - acc: 0.7067 - val_loss: 0.8707 - val_acc: 0.7029\n",
            "Epoch 64/80\n",
            "219/219 [==============================] - 2s 9ms/step - loss: 0.8592 - acc: 0.7100 - val_loss: 0.8318 - val_acc: 0.7059\n",
            "Epoch 65/80\n",
            "219/219 [==============================] - 2s 9ms/step - loss: 0.8589 - acc: 0.7113 - val_loss: 0.8743 - val_acc: 0.7139\n",
            "Epoch 66/80\n",
            "219/219 [==============================] - 2s 9ms/step - loss: 0.8565 - acc: 0.7153 - val_loss: 0.8236 - val_acc: 0.7218\n",
            "Epoch 67/80\n",
            "219/219 [==============================] - 2s 9ms/step - loss: 0.8563 - acc: 0.7094 - val_loss: 0.8776 - val_acc: 0.7198\n",
            "Epoch 68/80\n",
            "219/219 [==============================] - 2s 9ms/step - loss: 0.8562 - acc: 0.7131 - val_loss: 0.8255 - val_acc: 0.7218\n",
            "Epoch 69/80\n",
            "219/219 [==============================] - 2s 9ms/step - loss: 0.8525 - acc: 0.7127 - val_loss: 0.8374 - val_acc: 0.7099\n",
            "Epoch 70/80\n",
            "219/219 [==============================] - 2s 9ms/step - loss: 0.8555 - acc: 0.7134 - val_loss: 0.8376 - val_acc: 0.7268\n",
            "Epoch 71/80\n",
            "219/219 [==============================] - 2s 9ms/step - loss: 0.8492 - acc: 0.7147 - val_loss: 0.8241 - val_acc: 0.7139\n",
            "Epoch 72/80\n",
            "219/219 [==============================] - 2s 10ms/step - loss: 0.8586 - acc: 0.7094 - val_loss: 0.8520 - val_acc: 0.7119\n",
            "Epoch 73/80\n",
            "219/219 [==============================] - 2s 9ms/step - loss: 0.8532 - acc: 0.7167 - val_loss: 0.8506 - val_acc: 0.7079\n",
            "Epoch 74/80\n",
            "219/219 [==============================] - 2s 10ms/step - loss: 0.8486 - acc: 0.7129 - val_loss: 0.8331 - val_acc: 0.7218\n",
            "Epoch 75/80\n",
            "219/219 [==============================] - 2s 10ms/step - loss: 0.8500 - acc: 0.7129 - val_loss: 0.8491 - val_acc: 0.7178\n",
            "Epoch 76/80\n",
            "219/219 [==============================] - 2s 9ms/step - loss: 0.8515 - acc: 0.7130 - val_loss: 0.8365 - val_acc: 0.7069\n",
            "Epoch 77/80\n",
            "219/219 [==============================] - 2s 10ms/step - loss: 0.8480 - acc: 0.7113 - val_loss: 0.8346 - val_acc: 0.7228\n",
            "Epoch 78/80\n",
            "219/219 [==============================] - 2s 10ms/step - loss: 0.8600 - acc: 0.7042 - val_loss: 0.8463 - val_acc: 0.7218\n",
            "Epoch 79/80\n",
            "219/219 [==============================] - 2s 10ms/step - loss: 0.8561 - acc: 0.7137 - val_loss: 0.8465 - val_acc: 0.7198\n",
            "Epoch 80/80\n",
            "219/219 [==============================] - 2s 9ms/step - loss: 0.8471 - acc: 0.7130 - val_loss: 0.8328 - val_acc: 0.7178\n"
          ],
          "name": "stdout"
        }
      ]
    },
    {
      "cell_type": "code",
      "metadata": {
        "id": "QDpwzD2M9PFu",
        "colab": {
          "base_uri": "https://localhost:8080/"
        },
        "outputId": "2d2c088a-31e8-4fb5-b001-0c3fae028dc8"
      },
      "source": [
        "model.evaluate(X_test,y_test) "
      ],
      "execution_count": 49,
      "outputs": [
        {
          "output_type": "stream",
          "text": [
            "63/63 [==============================] - 0s 4ms/step - loss: 0.8362 - acc: 0.7077\n"
          ],
          "name": "stdout"
        },
        {
          "output_type": "execute_result",
          "data": {
            "text/plain": [
              "[0.8362024426460266, 0.7077306509017944]"
            ]
          },
          "metadata": {
            "tags": []
          },
          "execution_count": 49
        }
      ]
    },
    {
      "cell_type": "code",
      "metadata": {
        "id": "Mj7WzqhXvqdc",
        "colab": {
          "base_uri": "https://localhost:8080/",
          "height": 282
        },
        "outputId": "a2edb196-ea3d-40f7-a7b0-874a2b23643b"
      },
      "source": [
        "import matplotlib.pyplot as plt\n",
        "\n",
        "plt.plot(history.history['loss'], 'r-o')\n",
        "plt.plot(history.history['val_loss'], 'b--o')"
      ],
      "execution_count": 50,
      "outputs": [
        {
          "output_type": "execute_result",
          "data": {
            "text/plain": [
              "[<matplotlib.lines.Line2D at 0x7febb7d27b90>]"
            ]
          },
          "metadata": {
            "tags": []
          },
          "execution_count": 50
        },
        {
          "output_type": "display_data",
          "data": {
            "image/png": "[encoded data removed]",
            "text/plain": [
              "<Figure size 432x288 with 1 Axes>"
            ]
          },
          "metadata": {
            "tags": [],
            "needs_background": "light"
          }
        }
      ]
    },
    {
      "cell_type": "code",
      "metadata": {
        "id": "iloUM0bVxCvW",
        "colab": {
          "base_uri": "https://localhost:8080/",
          "height": 282
        },
        "outputId": "7d6f76d1-12d7-4b31-b1a0-f6b8bcfaf9c0"
      },
      "source": [
        "plt.plot(history.history['acc'], 'r-o')\n",
        "plt.plot(history.history['val_acc'], 'b--o')"
      ],
      "execution_count": 51,
      "outputs": [
        {
          "output_type": "execute_result",
          "data": {
            "text/plain": [
              "[<matplotlib.lines.Line2D at 0x7febb7ce5850>]"
            ]
          },
          "metadata": {
            "tags": []
          },
          "execution_count": 51
        },
        {
          "output_type": "display_data",
          "data": {
            "image/png": "[encoded data removed]",
            "text/plain": [
              "<Figure size 432x288 with 1 Axes>"
            ]
          },
          "metadata": {
            "tags": [],
            "needs_background": "light"
          }
        }
      ]
    },
    {
      "cell_type": "markdown",
      "metadata": {
        "id": "P2c68zJ5qBt8"
      },
      "source": [
        "Confusion Matrix"
      ]
    },
    {
      "cell_type": "code",
      "metadata": {
        "id": "sKkrCf4Q9pn7",
        "colab": {
          "base_uri": "https://localhost:8080/"
        },
        "outputId": "0d852701-0f24-453c-b03a-3f05337c2321"
      },
      "source": [
        "y_pred=model.predict(X_val)\n",
        "CM=np.zeros((7,7))\n",
        "for i in range(7):\n",
        "  for j in range(7):\n",
        "    CM[i,j]=np.sum((y_pred.argmax(axis=1)==j)*(y_val.argmax(axis=1)==i))\n",
        "\n",
        "np.set_printoptions(suppress=True)\n",
        "CM"
      ],
      "execution_count": 52,
      "outputs": [
        {
          "output_type": "execute_result",
          "data": {
            "text/plain": [
              "array([[  0.,  21.,   6.,   0.,   0.,   6.,   0.],\n",
              "       [  0.,  31.,   2.,   0.,   0.,  19.,   0.],\n",
              "       [  0.,  20.,  35.,   0.,   0.,  55.,   0.],\n",
              "       [  0.,   8.,   0.,   0.,   0.,   4.,   0.],\n",
              "       [  0.,   2.,  16.,   0.,   3.,  89.,   1.],\n",
              "       [  0.,  10.,  13.,   0.,   2., 644.,   2.],\n",
              "       [  0.,   4.,   0.,   0.,   1.,   2.,   7.]])"
            ]
          },
          "metadata": {
            "tags": []
          },
          "execution_count": 52
        }
      ]
    },
    {
      "cell_type": "code",
      "metadata": {
        "colab": {
          "base_uri": "https://localhost:8080/"
        },
        "id": "JeE5qDf1tZjG",
        "outputId": "41f09495-7f94-439e-987d-204b9c220b66"
      },
      "source": [
        "np.sum(y_val,axis=0)"
      ],
      "execution_count": 53,
      "outputs": [
        {
          "output_type": "execute_result",
          "data": {
            "text/plain": [
              "array([ 33.,  52., 110.,  12., 111., 671.,  14.], dtype=float32)"
            ]
          },
          "metadata": {
            "tags": []
          },
          "execution_count": 53
        }
      ]
    },
    {
      "cell_type": "code",
      "metadata": {
        "colab": {
          "base_uri": "https://localhost:8080/"
        },
        "id": "dkExI-OXwsZe",
        "outputId": "43a6435c-d0bc-4901-b9e4-be847c5c28c0"
      },
      "source": [
        "for i in range(7):\n",
        "    true_positive = np.sum((y_pred.argmax(axis=1) == i) * (y_val.argmax(axis=1) == i))\n",
        "    true_negative = np.sum((y_pred.argmax(axis=1) != i) * (y_val.argmax(axis=1) != i))\n",
        "    false_positive = np.sum((y_pred.argmax(axis=1) == i) * (y_val.argmax(axis=1) != i))\n",
        "    false_negative = np.sum((y_pred.argmax(axis=1) != i) * (y_val.argmax(axis=1) == i))\n",
        "\n",
        "    acc = (true_positive + true_negative) / (X_val.shape[0]) * 100\n",
        "    precision = true_positive / (true_positive + false_positive) * 100\n",
        "    recall = true_positive / (true_positive + false_negative) * 100\n",
        "\n",
        "    print('on label {}, acc={:0.2f}, precision={:0.2f}, recall={:0.2f}'.format(i, acc, precision, recall))"
      ],
      "execution_count": 55,
      "outputs": [
        {
          "output_type": "stream",
          "text": [
            "on label 0, acc=96.71, precision=nan, recall=0.00\n",
            "on label 1, acc=91.43, precision=32.29, recall=59.62\n",
            "on label 2, acc=88.83, precision=48.61, recall=31.82\n",
            "on label 3, acc=98.80, precision=nan, recall=0.00\n",
            "on label 4, acc=88.93, precision=50.00, recall=2.70\n",
            "on label 5, acc=79.86, precision=78.63, recall=95.98\n",
            "on label 6, acc=99.00, precision=70.00, recall=50.00\n"
          ],
          "name": "stdout"
        },
        {
          "output_type": "stream",
          "text": [
            "/usr/local/lib/python3.7/dist-packages/ipykernel_launcher.py:8: RuntimeWarning: invalid value encountered in long_scalars\n",
            "  \n"
          ],
          "name": "stderr"
        }
      ]
    },
    {
      "cell_type": "code",
      "metadata": {
        "id": "MJKifUvC6upD"
      },
      "source": [
        ""
      ],
      "execution_count": null,
      "outputs": []
    }
  ]
}