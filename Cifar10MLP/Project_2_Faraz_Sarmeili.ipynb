{
  "nbformat": 4,
  "nbformat_minor": 0,
  "metadata": {
    "accelerator": "GPU",
    "colab": {
      "name": "Project 2_Faraz Sarmeili.ipynb",
      "provenance": [],
      "collapsed_sections": []
    },
    "kernelspec": {
      "display_name": "Python 3",
      "name": "python3"
    },
    "language_info": {
      "name": "python"
    }
  },
  "cells": [
    {
      "cell_type": "code",
      "metadata": {
        "id": "LDvcmK93WlrI"
      },
      "source": [
        "from tensorflow.keras.datasets import cifar10\n",
        "import numpy as np\n",
        "import matplotlib.pyplot as plt\n",
        "\n",
        "(x_train,y_train),(x_test,y_test)=cifar10.load_data()"
      ],
      "execution_count": 8,
      "outputs": []
    },
    {
      "cell_type": "markdown",
      "metadata": {
        "id": "6MxC9GuXOBJx"
      },
      "source": [
        "Checking My Dataset"
      ]
    },
    {
      "cell_type": "code",
      "metadata": {
        "colab": {
          "base_uri": "https://localhost:8080/"
        },
        "id": "iNFirh94XIIg",
        "outputId": "362bba7b-596c-42e8-f970-dda670d90534"
      },
      "source": [
        "print('x_train: '+str(x_train.shape))\n",
        "print('y_train: '+str(y_train.shape))\n",
        "print('x_test: '+str(x_test.shape))\n",
        "print('y_test: '+str(y_test.shape))"
      ],
      "execution_count": 9,
      "outputs": [
        {
          "output_type": "stream",
          "text": [
            "x_train: (50000, 32, 32, 3)\n",
            "y_train: (50000, 1)\n",
            "x_test: (10000, 32, 32, 3)\n",
            "y_test: (10000, 1)\n"
          ],
          "name": "stdout"
        }
      ]
    },
    {
      "cell_type": "code",
      "metadata": {
        "colab": {
          "base_uri": "https://localhost:8080/",
          "height": 283
        },
        "id": "emxIo1fpXeOY",
        "outputId": "337e8754-1394-4fd7-c801-71b4f4422d5a"
      },
      "source": [
        "plt.imshow(x_train[3])\n",
        "print(y_train[3])"
      ],
      "execution_count": 10,
      "outputs": [
        {
          "output_type": "stream",
          "text": [
            "[4]\n"
          ],
          "name": "stdout"
        },
        {
          "output_type": "display_data",
          "data": {
            "image/png": "[encoded data removed]",
            "text/plain": [
              "<Figure size 432x288 with 1 Axes>"
            ]
          },
          "metadata": {
            "tags": [],
            "needs_background": "light"
          }
        }
      ]
    },
    {
      "cell_type": "markdown",
      "metadata": {
        "id": "unjTFv58OeYz"
      },
      "source": [
        "Preprocessing"
      ]
    },
    {
      "cell_type": "markdown",
      "metadata": {
        "id": "AJJE4X_-sl4x"
      },
      "source": [
        "with Resize Images"
      ]
    },
    {
      "cell_type": "code",
      "metadata": {
        "id": "Nan8AX1Jspl1"
      },
      "source": [
        "import tensorflow as tf\n",
        "from tensorflow.keras.utils import to_categorical\n",
        "\n",
        "new_train=tf.image.resize(x_train,(16,16))\n",
        "new_train=np.array(new_train)\n",
        "new_test=tf.image.resize(x_test,(16,16))\n",
        "new_test=np.array(new_test)\n",
        "\n",
        "new_train=new_train.reshape(-1,16*16*3).astype(np.float32)/255\n",
        "new_test=new_test.reshape(-1,16*16*3).astype(np.float32)/255\n",
        "y_train=to_categorical(y_train)\n",
        "y_test=to_categorical(y_test)\n",
        "def shuffling(x,y):\n",
        "  index=list(range(len(x)))\n",
        "  np.random.shuffle(index)\n",
        "  x_new=x[index]\n",
        "  y_new=y[index]\n",
        "  return x_new , y_new\n",
        "new_train,y_train=shuffling(new_train,y_train)\n",
        "new_train_tuning=new_train[:int(len(new_train)/3)]\n",
        "y_train_tuning=y_train[:int(len(y_train)/3)]"
      ],
      "execution_count": 11,
      "outputs": []
    },
    {
      "cell_type": "markdown",
      "metadata": {
        "id": "297s16r1Bu5-"
      },
      "source": [
        "without Resize Images"
      ]
    },
    {
      "cell_type": "code",
      "metadata": {
        "id": "hs4xhHbZXj6y"
      },
      "source": [
        "from tensorflow.keras.utils import to_categorical\n",
        "\n",
        "x_train=x_train.reshape(-1,32*32*3).astype(np.float32)/255\n",
        "x_test=x_test.reshape(-1,32*32*3).astype(np.float32)/255\n",
        "y_train=to_categorical(y_train)\n",
        "y_test=to_categorical(y_test)\n",
        "def shuffling(x,y):\n",
        "  index=list(range(len(x)))\n",
        "  np.random.shuffle(index)\n",
        "  x_new=x[index]\n",
        "  y_new=y[index]\n",
        "  return x_new , y_new\n",
        "x_train,y_train=shuffling(x_train,y_train)\n",
        "x_train_tuning=x_train[:int(len(x_train)/3)]\n",
        "y_train_tuning=y_train[:int(len(y_train)/3)]\n",
        "\n"
      ],
      "execution_count": 7,
      "outputs": []
    },
    {
      "cell_type": "markdown",
      "metadata": {
        "id": "X4wRpdfGfDEU"
      },
      "source": [
        "Without K_Fold Cross Validation"
      ]
    },
    {
      "cell_type": "code",
      "metadata": {
        "colab": {
          "base_uri": "https://localhost:8080/"
        },
        "id": "Jqfawl7WYd5R",
        "outputId": "6baacba2-677e-4b13-cd5a-4b861d83d4b3"
      },
      "source": [
        "import tensorflow.keras\n",
        "from tensorflow.keras.models import Sequential\n",
        "from tensorflow.keras.layers import Dense, Dropout\n",
        "from tensorflow.keras.optimizers import Adam,SGD,RMSprop,Adagrad\n",
        "from tensorflow.keras import metrics\n",
        "\n",
        "model = Sequential()\n",
        "model.add(Dense(1000, activation='relu', input_dim=16*16*3))\n",
        "model.add(Dropout(0.25))\n",
        "model.add(Dense(500, activation='relu'))\n",
        "model.add(Dropout(0.25))\n",
        "model.add(Dense(300, activation='relu'))\n",
        "model.add(Dropout(0.25))\n",
        "model.add(Dense(10, activation='softmax'))\n",
        "model.compile(optimizer=Adam(learning_rate=0.0001), loss='categorical_crossentropy', metrics=['acc'])\n",
        "val=int(0.1*len(new_train))\n",
        "history=model.fit(new_train[val:], y_train[val:],batch_size=25, epochs=40,validation_data=(new_train[:val],y_train[:val]))"
      ],
      "execution_count": 12,
      "outputs": [
        {
          "output_type": "stream",
          "text": [
            "Epoch 1/40\n",
            "1800/1800 [==============================] - 5s 3ms/step - loss: 1.9450 - acc: 0.2911 - val_loss: 1.7482 - val_acc: 0.3724\n",
            "Epoch 2/40\n",
            "1800/1800 [==============================] - 4s 2ms/step - loss: 1.7422 - acc: 0.3755 - val_loss: 1.6453 - val_acc: 0.4264\n",
            "Epoch 3/40\n",
            "1800/1800 [==============================] - 4s 2ms/step - loss: 1.6649 - acc: 0.4043 - val_loss: 1.5979 - val_acc: 0.4286\n",
            "Epoch 4/40\n",
            "1800/1800 [==============================] - 5s 3ms/step - loss: 1.6056 - acc: 0.4294 - val_loss: 1.5336 - val_acc: 0.4612\n",
            "Epoch 5/40\n",
            "1800/1800 [==============================] - 5s 3ms/step - loss: 1.5600 - acc: 0.4433 - val_loss: 1.5058 - val_acc: 0.4698\n",
            "Epoch 6/40\n",
            "1800/1800 [==============================] - 4s 2ms/step - loss: 1.5235 - acc: 0.4574 - val_loss: 1.4708 - val_acc: 0.4762\n",
            "Epoch 7/40\n",
            "1800/1800 [==============================] - 4s 2ms/step - loss: 1.4928 - acc: 0.4677 - val_loss: 1.4586 - val_acc: 0.4830\n",
            "Epoch 8/40\n",
            "1800/1800 [==============================] - 4s 2ms/step - loss: 1.4613 - acc: 0.4802 - val_loss: 1.4696 - val_acc: 0.4870\n",
            "Epoch 9/40\n",
            "1800/1800 [==============================] - 5s 3ms/step - loss: 1.4351 - acc: 0.4910 - val_loss: 1.4322 - val_acc: 0.4920\n",
            "Epoch 10/40\n",
            "1800/1800 [==============================] - 5s 3ms/step - loss: 1.4075 - acc: 0.4977 - val_loss: 1.3892 - val_acc: 0.5132\n",
            "Epoch 11/40\n",
            "1800/1800 [==============================] - 5s 3ms/step - loss: 1.3893 - acc: 0.5051 - val_loss: 1.4105 - val_acc: 0.5068\n",
            "Epoch 12/40\n",
            "1800/1800 [==============================] - 5s 3ms/step - loss: 1.3708 - acc: 0.5120 - val_loss: 1.4042 - val_acc: 0.5082\n",
            "Epoch 13/40\n",
            "1800/1800 [==============================] - 5s 3ms/step - loss: 1.3504 - acc: 0.5174 - val_loss: 1.4100 - val_acc: 0.4988\n",
            "Epoch 14/40\n",
            "1800/1800 [==============================] - 5s 3ms/step - loss: 1.3299 - acc: 0.5274 - val_loss: 1.3907 - val_acc: 0.5142\n",
            "Epoch 15/40\n",
            "1800/1800 [==============================] - 4s 2ms/step - loss: 1.3116 - acc: 0.5311 - val_loss: 1.3729 - val_acc: 0.5144\n",
            "Epoch 16/40\n",
            "1800/1800 [==============================] - 4s 2ms/step - loss: 1.2959 - acc: 0.5374 - val_loss: 1.3361 - val_acc: 0.5320\n",
            "Epoch 17/40\n",
            "1800/1800 [==============================] - 4s 2ms/step - loss: 1.2815 - acc: 0.5420 - val_loss: 1.3299 - val_acc: 0.5346\n",
            "Epoch 18/40\n",
            "1800/1800 [==============================] - 4s 2ms/step - loss: 1.2594 - acc: 0.5483 - val_loss: 1.3777 - val_acc: 0.5194\n",
            "Epoch 19/40\n",
            "1800/1800 [==============================] - 4s 2ms/step - loss: 1.2465 - acc: 0.5534 - val_loss: 1.3295 - val_acc: 0.5314\n",
            "Epoch 20/40\n",
            "1800/1800 [==============================] - 4s 2ms/step - loss: 1.2337 - acc: 0.5589 - val_loss: 1.3221 - val_acc: 0.5372\n",
            "Epoch 21/40\n",
            "1800/1800 [==============================] - 4s 2ms/step - loss: 1.2195 - acc: 0.5628 - val_loss: 1.3050 - val_acc: 0.5446\n",
            "Epoch 22/40\n",
            "1800/1800 [==============================] - 4s 2ms/step - loss: 1.2041 - acc: 0.5707 - val_loss: 1.3111 - val_acc: 0.5458\n",
            "Epoch 23/40\n",
            "1800/1800 [==============================] - 4s 2ms/step - loss: 1.1944 - acc: 0.5718 - val_loss: 1.3043 - val_acc: 0.5420\n",
            "Epoch 24/40\n",
            "1800/1800 [==============================] - 5s 3ms/step - loss: 1.1766 - acc: 0.5810 - val_loss: 1.3156 - val_acc: 0.5360\n",
            "Epoch 25/40\n",
            "1800/1800 [==============================] - 5s 3ms/step - loss: 1.1639 - acc: 0.5841 - val_loss: 1.3119 - val_acc: 0.5496\n",
            "Epoch 26/40\n",
            "1800/1800 [==============================] - 5s 3ms/step - loss: 1.1490 - acc: 0.5896 - val_loss: 1.2750 - val_acc: 0.5538\n",
            "Epoch 27/40\n",
            "1800/1800 [==============================] - 5s 3ms/step - loss: 1.1316 - acc: 0.5926 - val_loss: 1.2993 - val_acc: 0.5468\n",
            "Epoch 28/40\n",
            "1800/1800 [==============================] - 5s 3ms/step - loss: 1.1211 - acc: 0.5996 - val_loss: 1.2951 - val_acc: 0.5530\n",
            "Epoch 29/40\n",
            "1800/1800 [==============================] - 4s 2ms/step - loss: 1.1084 - acc: 0.6044 - val_loss: 1.2788 - val_acc: 0.5598\n",
            "Epoch 30/40\n",
            "1800/1800 [==============================] - 4s 2ms/step - loss: 1.0959 - acc: 0.6067 - val_loss: 1.2836 - val_acc: 0.5544\n",
            "Epoch 31/40\n",
            "1800/1800 [==============================] - 4s 2ms/step - loss: 1.0846 - acc: 0.6097 - val_loss: 1.2808 - val_acc: 0.5602\n",
            "Epoch 32/40\n",
            "1800/1800 [==============================] - 4s 2ms/step - loss: 1.0688 - acc: 0.6182 - val_loss: 1.3038 - val_acc: 0.5496\n",
            "Epoch 33/40\n",
            "1800/1800 [==============================] - 4s 2ms/step - loss: 1.0584 - acc: 0.6218 - val_loss: 1.2875 - val_acc: 0.5578\n",
            "Epoch 34/40\n",
            "1800/1800 [==============================] - 4s 2ms/step - loss: 1.0499 - acc: 0.6231 - val_loss: 1.2803 - val_acc: 0.5674\n",
            "Epoch 35/40\n",
            "1800/1800 [==============================] - 4s 2ms/step - loss: 1.0345 - acc: 0.6307 - val_loss: 1.2931 - val_acc: 0.5632\n",
            "Epoch 36/40\n",
            "1800/1800 [==============================] - 4s 2ms/step - loss: 1.0219 - acc: 0.6335 - val_loss: 1.2808 - val_acc: 0.5574\n",
            "Epoch 37/40\n",
            "1800/1800 [==============================] - 4s 2ms/step - loss: 1.0088 - acc: 0.6380 - val_loss: 1.2852 - val_acc: 0.5676\n",
            "Epoch 38/40\n",
            "1800/1800 [==============================] - 5s 3ms/step - loss: 0.9998 - acc: 0.6409 - val_loss: 1.3403 - val_acc: 0.5596\n",
            "Epoch 39/40\n",
            "1800/1800 [==============================] - 5s 3ms/step - loss: 0.9916 - acc: 0.6433 - val_loss: 1.2860 - val_acc: 0.5682\n",
            "Epoch 40/40\n",
            "1800/1800 [==============================] - 5s 3ms/step - loss: 0.9767 - acc: 0.6492 - val_loss: 1.2758 - val_acc: 0.5702\n"
          ],
          "name": "stdout"
        }
      ]
    },
    {
      "cell_type": "code",
      "metadata": {
        "colab": {
          "base_uri": "https://localhost:8080/"
        },
        "id": "Wwum6xAdyVcv",
        "outputId": "262e7caf-4ab8-4dfa-e389-3a78339283f3"
      },
      "source": [
        "model.evaluate(new_test,y_test)"
      ],
      "execution_count": 13,
      "outputs": [
        {
          "output_type": "stream",
          "text": [
            "313/313 [==============================] - 1s 3ms/step - loss: 1.2636 - acc: 0.5637\n"
          ],
          "name": "stdout"
        },
        {
          "output_type": "execute_result",
          "data": {
            "text/plain": [
              "[1.2636357545852661, 0.5637000203132629]"
            ]
          },
          "metadata": {
            "tags": []
          },
          "execution_count": 13
        }
      ]
    },
    {
      "cell_type": "code",
      "metadata": {
        "colab": {
          "base_uri": "https://localhost:8080/",
          "height": 282
        },
        "id": "V4mow2t5aLYp",
        "outputId": "3c0b0665-8bdd-433d-9326-754f9926e214"
      },
      "source": [
        "import matplotlib.pyplot as plt\n",
        "%matplotlib inline\n",
        "plt.plot(history.history['acc'],'b-')\n",
        "plt.plot(history.history['val_acc'],'r-')"
      ],
      "execution_count": 14,
      "outputs": [
        {
          "output_type": "execute_result",
          "data": {
            "text/plain": [
              "[<matplotlib.lines.Line2D at 0x7fb1c2301bd0>]"
            ]
          },
          "metadata": {
            "tags": []
          },
          "execution_count": 14
        },
        {
          "output_type": "display_data",
          "data": {
            "image/png": "[encoded data removed]",
            "text/plain": [
              "<Figure size 432x288 with 1 Axes>"
            ]
          },
          "metadata": {
            "tags": [],
            "needs_background": "light"
          }
        }
      ]
    },
    {
      "cell_type": "code",
      "metadata": {
        "colab": {
          "base_uri": "https://localhost:8080/",
          "height": 282
        },
        "id": "Lu1ZQWnIRdQe",
        "outputId": "bfc57489-1d6d-4122-955b-de18175b2033"
      },
      "source": [
        "plt.plot(history.history['loss'], 'b-')\n",
        "plt.plot(history.history['val_loss'], 'r-')"
      ],
      "execution_count": 15,
      "outputs": [
        {
          "output_type": "execute_result",
          "data": {
            "text/plain": [
              "[<matplotlib.lines.Line2D at 0x7fb1c227ac90>]"
            ]
          },
          "metadata": {
            "tags": []
          },
          "execution_count": 15
        },
        {
          "output_type": "display_data",
          "data": {
            "image/png": "[encoded data removed]",
            "text/plain": [
              "<Figure size 432x288 with 1 Axes>"
            ]
          },
          "metadata": {
            "tags": [],
            "needs_background": "light"
          }
        }
      ]
    },
    {
      "cell_type": "markdown",
      "metadata": {
        "id": "He9g6qzEU6cd"
      },
      "source": [
        "Confusion Matrics"
      ]
    },
    {
      "cell_type": "code",
      "metadata": {
        "id": "XhWPBILqn-Vy"
      },
      "source": [
        "from sklearn.metrics import classification_report, confusion_matrix\n",
        "from tensorflow.keras.utils import to_categorical\n",
        "\n",
        "y_pred=to_categorical(np.argmax(model.predict(new_test),axis=1))\n"
      ],
      "execution_count": 16,
      "outputs": []
    },
    {
      "cell_type": "code",
      "metadata": {
        "colab": {
          "base_uri": "https://localhost:8080/",
          "height": 388
        },
        "id": "osxWi_YHIlmx",
        "outputId": "76bf78fe-ab10-4850-f9d7-389b7f2f0204"
      },
      "source": [
        "import pandas as pd\n",
        "CM=confusion_matrix(np.argmax(y_test,axis=1),np.argmax(y_pred,axis=1))\n",
        "CMDF=pd.DataFrame(CM,index=['airplane','automobile','bird','cat','deer','dog','frog','horse','ship','truck'],\n",
        "                  columns=['airplane','automobile','bird','cat','deer','dog','frog','horse','ship','truck'])\n",
        "CMDF.index.name='True'\n",
        "CMDF.columns.name='Predicted'\n",
        "CMDF"
      ],
      "execution_count": 31,
      "outputs": [
        {
          "output_type": "execute_result",
          "data": {
            "text/html": [
              "<div>\n",
              "<style scoped>\n",
              "    .dataframe tbody tr th:only-of-type {\n",
              "        vertical-align: middle;\n",
              "    }\n",
              "\n",
              "    .dataframe tbody tr th {\n",
              "        vertical-align: top;\n",
              "    }\n",
              "\n",
              "    .dataframe thead th {\n",
              "        text-align: right;\n",
              "    }\n",
              "</style>\n",
              "<table border=\"1\" class=\"dataframe\">\n",
              "  <thead>\n",
              "    <tr style=\"text-align: right;\">\n",
              "      <th>Predicted</th>\n",
              "      <th>airplane</th>\n",
              "      <th>automobile</th>\n",
              "      <th>bird</th>\n",
              "      <th>cat</th>\n",
              "      <th>deer</th>\n",
              "      <th>dog</th>\n",
              "      <th>frog</th>\n",
              "      <th>horse</th>\n",
              "      <th>ship</th>\n",
              "      <th>truck</th>\n",
              "    </tr>\n",
              "    <tr>\n",
              "      <th>True</th>\n",
              "      <th></th>\n",
              "      <th></th>\n",
              "      <th></th>\n",
              "      <th></th>\n",
              "      <th></th>\n",
              "      <th></th>\n",
              "      <th></th>\n",
              "      <th></th>\n",
              "      <th></th>\n",
              "      <th></th>\n",
              "    </tr>\n",
              "  </thead>\n",
              "  <tbody>\n",
              "    <tr>\n",
              "      <th>airplane</th>\n",
              "      <td>571</td>\n",
              "      <td>46</td>\n",
              "      <td>97</td>\n",
              "      <td>32</td>\n",
              "      <td>42</td>\n",
              "      <td>14</td>\n",
              "      <td>19</td>\n",
              "      <td>24</td>\n",
              "      <td>108</td>\n",
              "      <td>47</td>\n",
              "    </tr>\n",
              "    <tr>\n",
              "      <th>automobile</th>\n",
              "      <td>20</td>\n",
              "      <td>721</td>\n",
              "      <td>17</td>\n",
              "      <td>17</td>\n",
              "      <td>12</td>\n",
              "      <td>10</td>\n",
              "      <td>17</td>\n",
              "      <td>16</td>\n",
              "      <td>45</td>\n",
              "      <td>125</td>\n",
              "    </tr>\n",
              "    <tr>\n",
              "      <th>bird</th>\n",
              "      <td>46</td>\n",
              "      <td>24</td>\n",
              "      <td>449</td>\n",
              "      <td>101</td>\n",
              "      <td>143</td>\n",
              "      <td>66</td>\n",
              "      <td>84</td>\n",
              "      <td>60</td>\n",
              "      <td>13</td>\n",
              "      <td>14</td>\n",
              "    </tr>\n",
              "    <tr>\n",
              "      <th>cat</th>\n",
              "      <td>17</td>\n",
              "      <td>19</td>\n",
              "      <td>79</td>\n",
              "      <td>427</td>\n",
              "      <td>58</td>\n",
              "      <td>189</td>\n",
              "      <td>96</td>\n",
              "      <td>61</td>\n",
              "      <td>25</td>\n",
              "      <td>29</td>\n",
              "    </tr>\n",
              "    <tr>\n",
              "      <th>deer</th>\n",
              "      <td>33</td>\n",
              "      <td>10</td>\n",
              "      <td>139</td>\n",
              "      <td>77</td>\n",
              "      <td>487</td>\n",
              "      <td>51</td>\n",
              "      <td>88</td>\n",
              "      <td>79</td>\n",
              "      <td>23</td>\n",
              "      <td>13</td>\n",
              "    </tr>\n",
              "    <tr>\n",
              "      <th>dog</th>\n",
              "      <td>12</td>\n",
              "      <td>8</td>\n",
              "      <td>75</td>\n",
              "      <td>251</td>\n",
              "      <td>64</td>\n",
              "      <td>453</td>\n",
              "      <td>48</td>\n",
              "      <td>58</td>\n",
              "      <td>16</td>\n",
              "      <td>15</td>\n",
              "    </tr>\n",
              "    <tr>\n",
              "      <th>frog</th>\n",
              "      <td>4</td>\n",
              "      <td>17</td>\n",
              "      <td>75</td>\n",
              "      <td>98</td>\n",
              "      <td>95</td>\n",
              "      <td>40</td>\n",
              "      <td>632</td>\n",
              "      <td>16</td>\n",
              "      <td>10</td>\n",
              "      <td>13</td>\n",
              "    </tr>\n",
              "    <tr>\n",
              "      <th>horse</th>\n",
              "      <td>23</td>\n",
              "      <td>17</td>\n",
              "      <td>38</td>\n",
              "      <td>71</td>\n",
              "      <td>76</td>\n",
              "      <td>69</td>\n",
              "      <td>19</td>\n",
              "      <td>643</td>\n",
              "      <td>7</td>\n",
              "      <td>37</td>\n",
              "    </tr>\n",
              "    <tr>\n",
              "      <th>ship</th>\n",
              "      <td>85</td>\n",
              "      <td>79</td>\n",
              "      <td>25</td>\n",
              "      <td>27</td>\n",
              "      <td>27</td>\n",
              "      <td>12</td>\n",
              "      <td>10</td>\n",
              "      <td>14</td>\n",
              "      <td>659</td>\n",
              "      <td>62</td>\n",
              "    </tr>\n",
              "    <tr>\n",
              "      <th>truck</th>\n",
              "      <td>29</td>\n",
              "      <td>178</td>\n",
              "      <td>19</td>\n",
              "      <td>36</td>\n",
              "      <td>12</td>\n",
              "      <td>19</td>\n",
              "      <td>17</td>\n",
              "      <td>45</td>\n",
              "      <td>50</td>\n",
              "      <td>595</td>\n",
              "    </tr>\n",
              "  </tbody>\n",
              "</table>\n",
              "</div>"
            ],
            "text/plain": [
              "Predicted   airplane  automobile  bird  cat  ...  frog  horse  ship  truck\n",
              "True                                         ...                          \n",
              "airplane         571          46    97   32  ...    19     24   108     47\n",
              "automobile        20         721    17   17  ...    17     16    45    125\n",
              "bird              46          24   449  101  ...    84     60    13     14\n",
              "cat               17          19    79  427  ...    96     61    25     29\n",
              "deer              33          10   139   77  ...    88     79    23     13\n",
              "dog               12           8    75  251  ...    48     58    16     15\n",
              "frog               4          17    75   98  ...   632     16    10     13\n",
              "horse             23          17    38   71  ...    19    643     7     37\n",
              "ship              85          79    25   27  ...    10     14   659     62\n",
              "truck             29         178    19   36  ...    17     45    50    595\n",
              "\n",
              "[10 rows x 10 columns]"
            ]
          },
          "metadata": {
            "tags": []
          },
          "execution_count": 31
        }
      ]
    },
    {
      "cell_type": "markdown",
      "metadata": {
        "id": "Zjy-XwSwX_0J"
      },
      "source": [
        "Accuracy:"
      ]
    },
    {
      "cell_type": "code",
      "metadata": {
        "colab": {
          "base_uri": "https://localhost:8080/"
        },
        "id": "NCsJeaePU3y2",
        "outputId": "b64f6046-2a69-4cb4-e4c8-dc9425a45e32"
      },
      "source": [
        "for i in range(len(CM)):\n",
        "  print(CMDF.index[i]+' : '+str(CM[i,i]/np.sum(CM)*100))\n"
      ],
      "execution_count": 43,
      "outputs": [
        {
          "output_type": "stream",
          "text": [
            "airplane : 5.71\n",
            "automobile : 7.21\n",
            "bird : 4.49\n",
            "cat : 4.2700000000000005\n",
            "deer : 4.87\n",
            "dog : 4.53\n",
            "frog : 6.32\n",
            "horse : 6.43\n",
            "ship : 6.59\n",
            "truck : 5.949999999999999\n"
          ],
          "name": "stdout"
        }
      ]
    },
    {
      "cell_type": "markdown",
      "metadata": {
        "id": "l-aG9ct4YCyz"
      },
      "source": [
        "Precision:"
      ]
    },
    {
      "cell_type": "code",
      "metadata": {
        "colab": {
          "base_uri": "https://localhost:8080/"
        },
        "id": "zWzrAMUxYCCu",
        "outputId": "5ac6de8f-f357-497c-dfcf-8933d4c3c49e"
      },
      "source": [
        "for i in range(len(CM)):\n",
        "  print(CMDF.index[i]+' : '+str(CM[i,i]/np.sum(CM[:,i])*100))"
      ],
      "execution_count": 46,
      "outputs": [
        {
          "output_type": "stream",
          "text": [
            "airplane : 67.97619047619048\n",
            "automobile : 64.4325290437891\n",
            "bird : 44.32379072063179\n",
            "cat : 37.55496921723835\n",
            "deer : 47.93307086614173\n",
            "dog : 49.07908992416034\n",
            "frog : 61.359223300970875\n",
            "horse : 63.28740157480315\n",
            "ship : 68.93305439330544\n",
            "truck : 62.63157894736842\n"
          ],
          "name": "stdout"
        }
      ]
    },
    {
      "cell_type": "markdown",
      "metadata": {
        "id": "VwazVrX7ZI5k"
      },
      "source": [
        "Recall:"
      ]
    },
    {
      "cell_type": "code",
      "metadata": {
        "colab": {
          "base_uri": "https://localhost:8080/"
        },
        "id": "dZMmwnx6ZJ4s",
        "outputId": "a9a07548-9a63-4b3b-86ef-4a1a9e094f72"
      },
      "source": [
        "for i in range(len(CM)):\n",
        "  print(CMDF.index[i]+' : '+str(CM[i,i]/np.sum(CM[i])*100))"
      ],
      "execution_count": 47,
      "outputs": [
        {
          "output_type": "stream",
          "text": [
            "airplane : 57.099999999999994\n",
            "automobile : 72.1\n",
            "bird : 44.9\n",
            "cat : 42.699999999999996\n",
            "deer : 48.699999999999996\n",
            "dog : 45.300000000000004\n",
            "frog : 63.2\n",
            "horse : 64.3\n",
            "ship : 65.9\n",
            "truck : 59.5\n"
          ],
          "name": "stdout"
        }
      ]
    },
    {
      "cell_type": "markdown",
      "metadata": {
        "id": "dt_P3H58aDqq"
      },
      "source": [
        "F1Score:"
      ]
    },
    {
      "cell_type": "code",
      "metadata": {
        "colab": {
          "base_uri": "https://localhost:8080/"
        },
        "id": "KqFwSitqaDHD",
        "outputId": "83bf18ed-3175-43a9-b1ad-b7c7f30f0584"
      },
      "source": [
        "def harmonic_mean(a,b):\n",
        "  return 2/((1/a)+(1/b))\n",
        "for i in range(len(CM)):\n",
        "  print(CMDF.index[i]+' : '+str(harmonic_mean((CM[i,i]/np.sum(CM[i])*100),(CM[i,i]/np.sum(CM[:,i])*100))))"
      ],
      "execution_count": 54,
      "outputs": [
        {
          "output_type": "stream",
          "text": [
            "airplane : 62.06521739130435\n",
            "automobile : 68.0509674374705\n",
            "bird : 44.610034773969204\n",
            "cat : 39.96256434253627\n",
            "deer : 48.313492063492056\n",
            "dog : 47.113884555382214\n",
            "frog : 62.266009852216754\n",
            "horse : 63.78968253968253\n",
            "ship : 67.38241308793455\n",
            "truck : 61.02564102564102\n"
          ],
          "name": "stdout"
        }
      ]
    },
    {
      "cell_type": "markdown",
      "metadata": {
        "id": "LRxXO2PYezzm"
      },
      "source": [
        "K_Fold Cross Validation"
      ]
    },
    {
      "cell_type": "code",
      "metadata": {
        "id": "WNAJxCeURWfm"
      },
      "source": [
        "from sklearn.model_selection import KFold\n",
        "from tensorflow.keras.models import Sequential\n",
        "\n",
        "kf=KFold(n_splits=5,shuffle=True)\n",
        "kf.get_n_splits(x_train_tuning,y_train_tuning)\n",
        "def training_model(X,y,batch_size,epochs):\n",
        "    train_score=[]\n",
        "    test_score=[]\n",
        "    for train,test in kf.split(X,y):\n",
        "        model = Sequential()\n",
        "        model.add(Dense(500, activation='relu', input_dim=32*32*3))\n",
        "        model.add(Dense(10, activation='softmax'))\n",
        "        model.compile(optimizer=Adam(learning_rate=0.0001), loss='categorical_crossentropy', metrics=['acc'])\n",
        "        history=model.fit(X[train],y[train],batch_size=batch_size,epochs=epochs,validation_data=(X[test],y[test]))\n",
        "        train_score.append(history.history['acc'][-1])\n",
        "        test_score.append(history.history['val_acc'][-1])\n",
        "    train_mean_score=np.mean(np.array(train_score))\n",
        "    test_mean_score=np.mean(np.array(test_score))\n",
        "    return train_mean_score,test_mean_score,model"
      ],
      "execution_count": null,
      "outputs": []
    },
    {
      "cell_type": "code",
      "metadata": {
        "colab": {
          "base_uri": "https://localhost:8080/"
        },
        "id": "ASZRVu-XVrQI",
        "outputId": "30991dfc-d82b-463a-cac8-775524762ab7"
      },
      "source": [
        "import tensorflow.keras\n",
        "from tensorflow.keras.models import Sequential\n",
        "from tensorflow.keras.layers import Dense\n",
        "from tensorflow.keras.optimizers import Adam\n",
        "\n",
        "\n",
        "acc,valacc,model=training_model(x_train_tuning,y_train_tuning,batch_size=15,epochs=20)"
      ],
      "execution_count": null,
      "outputs": [
        {
          "output_type": "stream",
          "text": [
            "Epoch 1/20\n",
            "534/534 [==============================] - 2s 3ms/step - loss: 2.0387 - acc: 0.2632 - val_loss: 1.9610 - val_acc: 0.3140\n",
            "Epoch 2/20\n",
            "534/534 [==============================] - 2s 3ms/step - loss: 1.8864 - acc: 0.3282 - val_loss: 1.9034 - val_acc: 0.3205\n",
            "Epoch 3/20\n",
            "534/534 [==============================] - 2s 3ms/step - loss: 1.8159 - acc: 0.3548 - val_loss: 1.8254 - val_acc: 0.3655\n",
            "Epoch 4/20\n",
            "534/534 [==============================] - 1s 3ms/step - loss: 1.7496 - acc: 0.3868 - val_loss: 1.7699 - val_acc: 0.3730\n",
            "Epoch 5/20\n",
            "534/534 [==============================] - 2s 3ms/step - loss: 1.7016 - acc: 0.4016 - val_loss: 1.7587 - val_acc: 0.3800\n",
            "Epoch 6/20\n",
            "534/534 [==============================] - 2s 3ms/step - loss: 1.6557 - acc: 0.4211 - val_loss: 1.7469 - val_acc: 0.3890\n",
            "Epoch 7/20\n",
            "534/534 [==============================] - 2s 3ms/step - loss: 1.6312 - acc: 0.4336 - val_loss: 1.7651 - val_acc: 0.3695\n",
            "Epoch 8/20\n",
            "534/534 [==============================] - 2s 3ms/step - loss: 1.5884 - acc: 0.4367 - val_loss: 1.7669 - val_acc: 0.3845\n",
            "Epoch 9/20\n",
            "534/534 [==============================] - 2s 3ms/step - loss: 1.5660 - acc: 0.4550 - val_loss: 1.7414 - val_acc: 0.3880\n",
            "Epoch 10/20\n",
            "534/534 [==============================] - 1s 3ms/step - loss: 1.5370 - acc: 0.4670 - val_loss: 1.6943 - val_acc: 0.4250\n",
            "Epoch 11/20\n",
            "534/534 [==============================] - 1s 3ms/step - loss: 1.5083 - acc: 0.4723 - val_loss: 1.6991 - val_acc: 0.3985\n",
            "Epoch 12/20\n",
            "534/534 [==============================] - 2s 3ms/step - loss: 1.4911 - acc: 0.4888 - val_loss: 1.6791 - val_acc: 0.4115\n",
            "Epoch 13/20\n",
            "534/534 [==============================] - 1s 3ms/step - loss: 1.4532 - acc: 0.5004 - val_loss: 1.7245 - val_acc: 0.4055\n",
            "Epoch 14/20\n",
            "534/534 [==============================] - 1s 3ms/step - loss: 1.4350 - acc: 0.5079 - val_loss: 1.6449 - val_acc: 0.4245\n",
            "Epoch 15/20\n",
            "534/534 [==============================] - 2s 3ms/step - loss: 1.4049 - acc: 0.5189 - val_loss: 1.6594 - val_acc: 0.4350\n",
            "Epoch 16/20\n",
            "534/534 [==============================] - 1s 3ms/step - loss: 1.3779 - acc: 0.5293 - val_loss: 1.7570 - val_acc: 0.3980\n",
            "Epoch 17/20\n",
            "534/534 [==============================] - 2s 3ms/step - loss: 1.3539 - acc: 0.5362 - val_loss: 1.7185 - val_acc: 0.4015\n",
            "Epoch 18/20\n",
            "534/534 [==============================] - 1s 3ms/step - loss: 1.3399 - acc: 0.5349 - val_loss: 1.6471 - val_acc: 0.4335\n",
            "Epoch 19/20\n",
            "534/534 [==============================] - 1s 3ms/step - loss: 1.3117 - acc: 0.5558 - val_loss: 1.6382 - val_acc: 0.4320\n",
            "Epoch 20/20\n",
            "534/534 [==============================] - 2s 3ms/step - loss: 1.2974 - acc: 0.5605 - val_loss: 1.6545 - val_acc: 0.4365\n",
            "Epoch 1/20\n",
            "534/534 [==============================] - 2s 3ms/step - loss: 2.0565 - acc: 0.2556 - val_loss: 1.9131 - val_acc: 0.3400\n",
            "Epoch 2/20\n",
            "534/534 [==============================] - 2s 3ms/step - loss: 1.8907 - acc: 0.3264 - val_loss: 1.8966 - val_acc: 0.3345\n",
            "Epoch 3/20\n",
            "534/534 [==============================] - 2s 3ms/step - loss: 1.8206 - acc: 0.3543 - val_loss: 1.8720 - val_acc: 0.3390\n",
            "Epoch 4/20\n",
            "534/534 [==============================] - 2s 3ms/step - loss: 1.7656 - acc: 0.3750 - val_loss: 1.8381 - val_acc: 0.3560\n",
            "Epoch 5/20\n",
            "534/534 [==============================] - 2s 3ms/step - loss: 1.7178 - acc: 0.3960 - val_loss: 1.8165 - val_acc: 0.3640\n",
            "Epoch 6/20\n",
            "534/534 [==============================] - 2s 3ms/step - loss: 1.6715 - acc: 0.4153 - val_loss: 1.7636 - val_acc: 0.4015\n",
            "Epoch 7/20\n",
            "534/534 [==============================] - 2s 3ms/step - loss: 1.6396 - acc: 0.4284 - val_loss: 1.8497 - val_acc: 0.3660\n",
            "Epoch 8/20\n",
            "534/534 [==============================] - 2s 3ms/step - loss: 1.6091 - acc: 0.4399 - val_loss: 1.8217 - val_acc: 0.3735\n",
            "Epoch 9/20\n",
            "534/534 [==============================] - 2s 3ms/step - loss: 1.5797 - acc: 0.4505 - val_loss: 1.7417 - val_acc: 0.4050\n",
            "Epoch 10/20\n",
            "534/534 [==============================] - 2s 3ms/step - loss: 1.5480 - acc: 0.4616 - val_loss: 1.7857 - val_acc: 0.3830\n",
            "Epoch 11/20\n",
            "534/534 [==============================] - 2s 3ms/step - loss: 1.5339 - acc: 0.4709 - val_loss: 1.7459 - val_acc: 0.3960\n",
            "Epoch 12/20\n",
            "534/534 [==============================] - 2s 3ms/step - loss: 1.5040 - acc: 0.4790 - val_loss: 1.8750 - val_acc: 0.3525\n",
            "Epoch 13/20\n",
            "534/534 [==============================] - 2s 3ms/step - loss: 1.4758 - acc: 0.4793 - val_loss: 1.7349 - val_acc: 0.4020\n",
            "Epoch 14/20\n",
            "534/534 [==============================] - 2s 3ms/step - loss: 1.4434 - acc: 0.5031 - val_loss: 1.7955 - val_acc: 0.3895\n",
            "Epoch 15/20\n",
            "534/534 [==============================] - 2s 3ms/step - loss: 1.4271 - acc: 0.5004 - val_loss: 1.7263 - val_acc: 0.4270\n",
            "Epoch 16/20\n",
            "534/534 [==============================] - 2s 3ms/step - loss: 1.3956 - acc: 0.5178 - val_loss: 1.7531 - val_acc: 0.4060\n",
            "Epoch 17/20\n",
            "534/534 [==============================] - 2s 3ms/step - loss: 1.3802 - acc: 0.5215 - val_loss: 1.7202 - val_acc: 0.4225\n",
            "Epoch 18/20\n",
            "534/534 [==============================] - 2s 3ms/step - loss: 1.3512 - acc: 0.5401 - val_loss: 1.7454 - val_acc: 0.4185\n",
            "Epoch 19/20\n",
            "534/534 [==============================] - 2s 3ms/step - loss: 1.3352 - acc: 0.5459 - val_loss: 1.7330 - val_acc: 0.4230\n",
            "Epoch 20/20\n",
            "534/534 [==============================] - 2s 3ms/step - loss: 1.3031 - acc: 0.5484 - val_loss: 1.7625 - val_acc: 0.3925\n",
            "Epoch 1/20\n",
            "534/534 [==============================] - 2s 3ms/step - loss: 2.0511 - acc: 0.2611 - val_loss: 1.9218 - val_acc: 0.2965\n",
            "Epoch 2/20\n",
            "534/534 [==============================] - 2s 3ms/step - loss: 1.8206 - acc: 0.3585 - val_loss: 1.8002 - val_acc: 0.3550\n",
            "Epoch 4/20\n",
            "534/534 [==============================] - 2s 3ms/step - loss: 1.7682 - acc: 0.3756 - val_loss: 1.7486 - val_acc: 0.3555\n",
            "Epoch 5/20\n",
            "534/534 [==============================] - 2s 3ms/step - loss: 1.7271 - acc: 0.3936 - val_loss: 1.7072 - val_acc: 0.3935\n",
            "Epoch 6/20\n",
            "534/534 [==============================] - 2s 3ms/step - loss: 1.6791 - acc: 0.4139 - val_loss: 1.6829 - val_acc: 0.3995\n",
            "Epoch 7/20\n",
            "534/534 [==============================] - 2s 3ms/step - loss: 1.6520 - acc: 0.4189 - val_loss: 1.6769 - val_acc: 0.4060\n",
            "Epoch 8/20\n",
            "534/534 [==============================] - 2s 3ms/step - loss: 1.6102 - acc: 0.4466 - val_loss: 1.7042 - val_acc: 0.3860\n",
            "Epoch 9/20\n",
            "534/534 [==============================] - 2s 3ms/step - loss: 1.5819 - acc: 0.4454 - val_loss: 1.7050 - val_acc: 0.3975\n",
            "Epoch 10/20\n",
            "534/534 [==============================] - 2s 3ms/step - loss: 1.5594 - acc: 0.4581 - val_loss: 1.6278 - val_acc: 0.4145\n",
            "Epoch 11/20\n",
            "534/534 [==============================] - 2s 3ms/step - loss: 1.5314 - acc: 0.4676 - val_loss: 1.6521 - val_acc: 0.4190\n",
            "Epoch 12/20\n",
            "534/534 [==============================] - 2s 3ms/step - loss: 1.4994 - acc: 0.4814 - val_loss: 1.6289 - val_acc: 0.4215\n",
            "Epoch 13/20\n",
            "534/534 [==============================] - 1s 3ms/step - loss: 1.4822 - acc: 0.4875 - val_loss: 1.6706 - val_acc: 0.4095\n",
            "Epoch 14/20\n",
            "534/534 [==============================] - 1s 3ms/step - loss: 1.4469 - acc: 0.5002 - val_loss: 1.6608 - val_acc: 0.4090\n",
            "Epoch 15/20\n",
            "534/534 [==============================] - 2s 3ms/step - loss: 1.4408 - acc: 0.5021 - val_loss: 1.6335 - val_acc: 0.4225\n",
            "Epoch 16/20\n",
            "534/534 [==============================] - 2s 3ms/step - loss: 1.4079 - acc: 0.5171 - val_loss: 1.6066 - val_acc: 0.4395\n",
            "Epoch 17/20\n",
            "534/534 [==============================] - 1s 3ms/step - loss: 1.3961 - acc: 0.5214 - val_loss: 1.6164 - val_acc: 0.4165\n",
            "Epoch 18/20\n",
            "534/534 [==============================] - 2s 3ms/step - loss: 1.3577 - acc: 0.5316 - val_loss: 1.6290 - val_acc: 0.4145\n",
            "Epoch 19/20\n",
            "534/534 [==============================] - 1s 3ms/step - loss: 1.3344 - acc: 0.5483 - val_loss: 1.6312 - val_acc: 0.4185\n",
            "Epoch 20/20\n",
            "534/534 [==============================] - 1s 3ms/step - loss: 1.3153 - acc: 0.5474 - val_loss: 1.6288 - val_acc: 0.4280\n",
            "Epoch 1/20\n",
            "534/534 [==============================] - 2s 3ms/step - loss: 2.0435 - acc: 0.2596 - val_loss: 1.8951 - val_acc: 0.3210\n",
            "Epoch 2/20\n",
            "534/534 [==============================] - 1s 3ms/step - loss: 1.8790 - acc: 0.3276 - val_loss: 1.9909 - val_acc: 0.3000\n",
            "Epoch 3/20\n",
            "534/534 [==============================] - 1s 3ms/step - loss: 1.8093 - acc: 0.3646 - val_loss: 1.8651 - val_acc: 0.3170\n",
            "Epoch 4/20\n",
            "534/534 [==============================] - 2s 3ms/step - loss: 1.7640 - acc: 0.3792 - val_loss: 1.8801 - val_acc: 0.3215\n",
            "Epoch 5/20\n",
            "534/534 [==============================] - 2s 3ms/step - loss: 1.7153 - acc: 0.3970 - val_loss: 1.7986 - val_acc: 0.3550\n",
            "Epoch 6/20\n",
            "534/534 [==============================] - 2s 3ms/step - loss: 1.6717 - acc: 0.4134 - val_loss: 1.7370 - val_acc: 0.3825\n",
            "Epoch 7/20\n",
            "534/534 [==============================] - 1s 3ms/step - loss: 1.6362 - acc: 0.4314 - val_loss: 1.7566 - val_acc: 0.3640\n",
            "Epoch 8/20\n",
            "534/534 [==============================] - 1s 3ms/step - loss: 1.6082 - acc: 0.4395 - val_loss: 1.7314 - val_acc: 0.3830\n",
            "Epoch 9/20\n",
            "534/534 [==============================] - 1s 3ms/step - loss: 1.5789 - acc: 0.4535 - val_loss: 1.6752 - val_acc: 0.4115\n",
            "Epoch 10/20\n",
            "534/534 [==============================] - 2s 3ms/step - loss: 1.5532 - acc: 0.4621 - val_loss: 1.6584 - val_acc: 0.4175\n",
            "Epoch 11/20\n",
            "534/534 [==============================] - 2s 3ms/step - loss: 1.5297 - acc: 0.4749 - val_loss: 1.6342 - val_acc: 0.4220\n",
            "Epoch 12/20\n",
            "534/534 [==============================] - 2s 3ms/step - loss: 1.4965 - acc: 0.4823 - val_loss: 1.6598 - val_acc: 0.4200\n",
            "Epoch 13/20\n",
            "534/534 [==============================] - 2s 3ms/step - loss: 1.4689 - acc: 0.4934 - val_loss: 1.6881 - val_acc: 0.4065\n",
            "Epoch 14/20\n",
            "534/534 [==============================] - 2s 3ms/step - loss: 1.4510 - acc: 0.4910 - val_loss: 1.6422 - val_acc: 0.4205\n",
            "Epoch 15/20\n",
            "534/534 [==============================] - 2s 3ms/step - loss: 1.4290 - acc: 0.5077 - val_loss: 1.6555 - val_acc: 0.4085\n",
            "Epoch 16/20\n",
            "534/534 [==============================] - 2s 3ms/step - loss: 1.4050 - acc: 0.5141 - val_loss: 1.6696 - val_acc: 0.4015\n",
            "Epoch 17/20\n",
            "534/534 [==============================] - 2s 3ms/step - loss: 1.3831 - acc: 0.5332 - val_loss: 1.6427 - val_acc: 0.4260\n",
            "Epoch 18/20\n",
            "534/534 [==============================] - 2s 3ms/step - loss: 1.3539 - acc: 0.5339 - val_loss: 1.6408 - val_acc: 0.4350\n",
            "Epoch 19/20\n",
            "534/534 [==============================] - 2s 3ms/step - loss: 1.3400 - acc: 0.5405 - val_loss: 1.6068 - val_acc: 0.4370\n",
            "Epoch 20/20\n",
            "534/534 [==============================] - 2s 3ms/step - loss: 1.3186 - acc: 0.5509 - val_loss: 1.6348 - val_acc: 0.4260\n",
            "Epoch 1/20\n",
            "534/534 [==============================] - 2s 3ms/step - loss: 2.0516 - acc: 0.2526 - val_loss: 1.9360 - val_acc: 0.3160\n",
            "Epoch 2/20\n",
            "534/534 [==============================] - 2s 3ms/step - loss: 1.8828 - acc: 0.3384 - val_loss: 1.8885 - val_acc: 0.3215\n",
            "Epoch 3/20\n",
            "534/534 [==============================] - 2s 3ms/step - loss: 1.8084 - acc: 0.3593 - val_loss: 1.9076 - val_acc: 0.3145\n",
            "Epoch 4/20\n",
            "534/534 [==============================] - 2s 3ms/step - loss: 1.7522 - acc: 0.3817 - val_loss: 1.8020 - val_acc: 0.3625\n",
            "Epoch 5/20\n",
            "534/534 [==============================] - 2s 3ms/step - loss: 1.7147 - acc: 0.3989 - val_loss: 1.8258 - val_acc: 0.3585\n",
            "Epoch 6/20\n",
            "534/534 [==============================] - 2s 3ms/step - loss: 1.6726 - acc: 0.4128 - val_loss: 1.7920 - val_acc: 0.3630\n",
            "Epoch 7/20\n",
            "534/534 [==============================] - 2s 3ms/step - loss: 1.6370 - acc: 0.4248 - val_loss: 1.7361 - val_acc: 0.3900\n",
            "Epoch 8/20\n",
            "534/534 [==============================] - 2s 3ms/step - loss: 1.6008 - acc: 0.4409 - val_loss: 1.7491 - val_acc: 0.3930\n",
            "Epoch 9/20\n",
            "534/534 [==============================] - 1s 3ms/step - loss: 1.5751 - acc: 0.4491 - val_loss: 1.7026 - val_acc: 0.4110\n",
            "Epoch 10/20\n",
            "534/534 [==============================] - 1s 3ms/step - loss: 1.5382 - acc: 0.4618 - val_loss: 1.7506 - val_acc: 0.3870\n",
            "Epoch 11/20\n",
            "534/534 [==============================] - 2s 3ms/step - loss: 1.5146 - acc: 0.4746 - val_loss: 1.7597 - val_acc: 0.3850\n",
            "Epoch 12/20\n",
            "534/534 [==============================] - 2s 3ms/step - loss: 1.4996 - acc: 0.4753 - val_loss: 1.7065 - val_acc: 0.4075\n",
            "Epoch 13/20\n",
            "534/534 [==============================] - 2s 3ms/step - loss: 1.4642 - acc: 0.4952 - val_loss: 1.7002 - val_acc: 0.4080\n",
            "Epoch 14/20\n",
            "534/534 [==============================] - 2s 3ms/step - loss: 1.4339 - acc: 0.5054 - val_loss: 1.7566 - val_acc: 0.3915\n",
            "Epoch 15/20\n",
            "534/534 [==============================] - 2s 3ms/step - loss: 1.4212 - acc: 0.5061 - val_loss: 1.6576 - val_acc: 0.4345\n",
            "Epoch 16/20\n",
            "534/534 [==============================] - 1s 3ms/step - loss: 1.3905 - acc: 0.5280 - val_loss: 1.6641 - val_acc: 0.4210\n",
            "Epoch 17/20\n",
            "534/534 [==============================] - 1s 3ms/step - loss: 1.3734 - acc: 0.5289 - val_loss: 1.6690 - val_acc: 0.4250\n",
            "Epoch 18/20\n",
            "534/534 [==============================] - 1s 3ms/step - loss: 1.3446 - acc: 0.5396 - val_loss: 1.6695 - val_acc: 0.4235\n",
            "Epoch 19/20\n",
            "534/534 [==============================] - 2s 3ms/step - loss: 1.3291 - acc: 0.5476 - val_loss: 1.6864 - val_acc: 0.4320\n",
            "Epoch 20/20\n",
            "534/534 [==============================] - 1s 3ms/step - loss: 1.3024 - acc: 0.5548 - val_loss: 1.6680 - val_acc: 0.4310\n"
          ],
          "name": "stdout"
        }
      ]
    },
    {
      "cell_type": "code",
      "metadata": {
        "colab": {
          "base_uri": "https://localhost:8080/"
        },
        "id": "RK-VsgMX42EF",
        "outputId": "726ba35d-a1eb-4fe4-d1a3-e6154920978e"
      },
      "source": [
        "print(acc)\n",
        "print(valacc)"
      ],
      "execution_count": null,
      "outputs": [
        {
          "output_type": "stream",
          "text": [
            "0.5523750185966492\n",
            "0.4228000044822693\n"
          ],
          "name": "stdout"
        }
      ]
    },
    {
      "cell_type": "code",
      "metadata": {
        "id": "39dqLdgKfRti",
        "colab": {
          "base_uri": "https://localhost:8080/"
        },
        "outputId": "c03b7bb4-a636-4571-c691-88bcd528dac8"
      },
      "source": [
        "model.evaluate(x_test,y_test)"
      ],
      "execution_count": null,
      "outputs": [
        {
          "output_type": "stream",
          "text": [
            "313/313 [==============================] - 1s 2ms/step - loss: 1.6105 - acc: 0.4349\n"
          ],
          "name": "stdout"
        },
        {
          "output_type": "execute_result",
          "data": {
            "text/plain": [
              "[1.6104811429977417, 0.4348999857902527]"
            ]
          },
          "metadata": {
            "tags": []
          },
          "execution_count": 20
        }
      ]
    },
    {
      "cell_type": "code",
      "metadata": {
        "id": "_SmV2CZOzSSJ"
      },
      "source": [
        ""
      ],
      "execution_count": null,
      "outputs": []
    }
  ]
}